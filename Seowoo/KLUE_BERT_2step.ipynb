{
 "cells": [
  {
   "cell_type": "code",
   "execution_count": 6,
   "metadata": {
    "id": "wvdYrDsgexp6"
   },
   "outputs": [],
   "source": [
    "import transformers"
   ]
  },
  {
   "cell_type": "code",
   "execution_count": 7,
   "metadata": {
    "colab": {
     "base_uri": "https://localhost:8080/",
     "height": 121
    },
    "id": "eBsci5ZXepQp",
    "outputId": "54abfb1f-3a21-4a59-c529-d9c65bd0550b"
   },
   "outputs": [
    {
     "data": {
      "text/plain": [
       "<function transformers.utils.logging.set_verbosity_info()>"
      ]
     },
     "execution_count": 7,
     "metadata": {},
     "output_type": "execute_result"
    }
   ],
   "source": [
    "transformers.logging.set_verbosity_info"
   ]
  },
  {
   "cell_type": "code",
   "execution_count": 14,
   "metadata": {
    "id": "_Y7-jBNi02j5"
   },
   "outputs": [],
   "source": [
    "import re\n",
    "from tqdm import tqdm\n",
    "import urllib.request\n",
    "import seaborn as sns\n",
    "import matplotlib.pyplot as plt\n",
    "import numpy as np\n",
    "import pandas as pd\n",
    "from sklearn.model_selection import train_test_split\n",
    "from sklearn.metrics import accuracy_score, f1_score, precision_score, recall_score, \\\n",
    "                            roc_auc_score, confusion_matrix, classification_report, \\\n",
    "                            matthews_corrcoef, cohen_kappa_score, log_loss\n",
    "from torch import nn\n",
    "import torch\n",
    "from torch.utils.data import Dataset, DataLoader"
   ]
  },
  {
   "cell_type": "code",
   "execution_count": 15,
   "metadata": {},
   "outputs": [],
   "source": [
    "device = torch.device('cuda' if torch.cuda.is_available() else 'cpu')"
   ]
  },
  {
   "cell_type": "code",
   "execution_count": 16,
   "metadata": {
    "colab": {
     "base_uri": "https://localhost:8080/"
    },
    "id": "tB81TBCsTgXz",
    "outputId": "b1c1b67f-0dcd-45cb-fd86-44e7bab954dd"
   },
   "outputs": [
    {
     "name": "stderr",
     "output_type": "stream",
     "text": [
      "Some weights of BertForSequenceClassification were not initialized from the model checkpoint at klue/bert-base and are newly initialized: ['classifier.bias', 'classifier.weight']\n",
      "You should probably TRAIN this model on a down-stream task to be able to use it for predictions and inference.\n"
     ]
    }
   ],
   "source": [
    "from transformers import AutoTokenizer, AutoModelForSequenceClassification\n",
    "import torch\n",
    "tokenizer = AutoTokenizer.from_pretrained(\"klue/bert-base\")\n",
    "model = AutoModelForSequenceClassification.from_pretrained(\"klue/bert-base\", num_labels=5)"
   ]
  },
  {
   "cell_type": "code",
   "execution_count": 17,
   "metadata": {},
   "outputs": [],
   "source": [
    "# 레이어 동결\n",
    "NUM_OF_FREEZE = 12 # 12이하로 12는 전체 동결\n",
    "\n",
    "for param in model.bert.encoder.layer[:NUM_OF_FREEZE].parameters():\n",
    "    param.requires_grad = False"
   ]
  },
  {
   "cell_type": "code",
   "execution_count": 18,
   "metadata": {},
   "outputs": [],
   "source": [
    "torch.cuda.empty_cache()"
   ]
  },
  {
   "cell_type": "code",
   "execution_count": 19,
   "metadata": {},
   "outputs": [
    {
     "data": {
      "text/plain": [
       "BertForSequenceClassification(\n",
       "  (bert): BertModel(\n",
       "    (embeddings): BertEmbeddings(\n",
       "      (word_embeddings): Embedding(32000, 768, padding_idx=0)\n",
       "      (position_embeddings): Embedding(512, 768)\n",
       "      (token_type_embeddings): Embedding(2, 768)\n",
       "      (LayerNorm): LayerNorm((768,), eps=1e-12, elementwise_affine=True)\n",
       "      (dropout): Dropout(p=0.1, inplace=False)\n",
       "    )\n",
       "    (encoder): BertEncoder(\n",
       "      (layer): ModuleList(\n",
       "        (0-11): 12 x BertLayer(\n",
       "          (attention): BertAttention(\n",
       "            (self): BertSdpaSelfAttention(\n",
       "              (query): Linear(in_features=768, out_features=768, bias=True)\n",
       "              (key): Linear(in_features=768, out_features=768, bias=True)\n",
       "              (value): Linear(in_features=768, out_features=768, bias=True)\n",
       "              (dropout): Dropout(p=0.1, inplace=False)\n",
       "            )\n",
       "            (output): BertSelfOutput(\n",
       "              (dense): Linear(in_features=768, out_features=768, bias=True)\n",
       "              (LayerNorm): LayerNorm((768,), eps=1e-12, elementwise_affine=True)\n",
       "              (dropout): Dropout(p=0.1, inplace=False)\n",
       "            )\n",
       "          )\n",
       "          (intermediate): BertIntermediate(\n",
       "            (dense): Linear(in_features=768, out_features=3072, bias=True)\n",
       "            (intermediate_act_fn): GELUActivation()\n",
       "          )\n",
       "          (output): BertOutput(\n",
       "            (dense): Linear(in_features=3072, out_features=768, bias=True)\n",
       "            (LayerNorm): LayerNorm((768,), eps=1e-12, elementwise_affine=True)\n",
       "            (dropout): Dropout(p=0.1, inplace=False)\n",
       "          )\n",
       "        )\n",
       "      )\n",
       "    )\n",
       "    (pooler): BertPooler(\n",
       "      (dense): Linear(in_features=768, out_features=768, bias=True)\n",
       "      (activation): Tanh()\n",
       "    )\n",
       "  )\n",
       "  (dropout): Dropout(p=0.1, inplace=False)\n",
       "  (classifier): Linear(in_features=768, out_features=5, bias=True)\n",
       ")"
      ]
     },
     "execution_count": 19,
     "metadata": {},
     "output_type": "execute_result"
    }
   ],
   "source": [
    "model.to(device)"
   ]
  },
  {
   "cell_type": "markdown",
   "metadata": {
    "id": "w6RtSymb0-rg"
   },
   "source": [
    "**언어모델 및 Tokenizer 불러오기**"
   ]
  },
  {
   "cell_type": "markdown",
   "metadata": {
    "id": "jf1OMGjS2Y5n"
   },
   "source": [
    "**데이터셋 가져오기**"
   ]
  },
  {
   "cell_type": "code",
   "execution_count": 20,
   "metadata": {
    "colab": {
     "base_uri": "https://localhost:8080/",
     "height": 206
    },
    "id": "hx1yP3jUzswl",
    "outputId": "5050a325-85fc-4b28-9552-ceafa76a40b2"
   },
   "outputs": [
    {
     "data": {
      "text/html": [
       "<div>\n",
       "<style scoped>\n",
       "    .dataframe tbody tr th:only-of-type {\n",
       "        vertical-align: middle;\n",
       "    }\n",
       "\n",
       "    .dataframe tbody tr th {\n",
       "        vertical-align: top;\n",
       "    }\n",
       "\n",
       "    .dataframe thead th {\n",
       "        text-align: right;\n",
       "    }\n",
       "</style>\n",
       "<table border=\"1\" class=\"dataframe\">\n",
       "  <thead>\n",
       "    <tr style=\"text-align: right;\">\n",
       "      <th></th>\n",
       "      <th>Unnamed: 0</th>\n",
       "      <th>class</th>\n",
       "      <th>conversation</th>\n",
       "    </tr>\n",
       "  </thead>\n",
       "  <tbody>\n",
       "    <tr>\n",
       "      <th>0</th>\n",
       "      <td>0</td>\n",
       "      <td>일반 대화</td>\n",
       "      <td>내 친구도 한 번도 본 적이 없대.언니는 입마개 쓰는 거 본 적 있어?</td>\n",
       "    </tr>\n",
       "    <tr>\n",
       "      <th>1</th>\n",
       "      <td>1</td>\n",
       "      <td>일반 대화</td>\n",
       "      <td>밤에 방에서 혼자 보다 눈물 또르륵그치 ㅜㅜ 봐도 봐도 마지막 장면엔 눈물 쭈르륵....</td>\n",
       "    </tr>\n",
       "    <tr>\n",
       "      <th>2</th>\n",
       "      <td>2</td>\n",
       "      <td>협박 대화</td>\n",
       "      <td>어이 아가야 \\n네.? 누구세요 . 아저씨.?\\n아 나 니네 아빠 친구야. 많이 컸...</td>\n",
       "    </tr>\n",
       "    <tr>\n",
       "      <th>3</th>\n",
       "      <td>3</td>\n",
       "      <td>일반 대화</td>\n",
       "      <td>그거 하면 할인되는 거야? 어떤 거지? 너한테 처음 들음ㅋㅋ 나처럼 대중교통비 많이...</td>\n",
       "    </tr>\n",
       "    <tr>\n",
       "      <th>4</th>\n",
       "      <td>4</td>\n",
       "      <td>갈취 대화</td>\n",
       "      <td>친구야 내친구야\\n무.무슨일이야?\\n왜그렇게 쫄고그래?\\n아니.\\n그건 그렇고 너 ...</td>\n",
       "    </tr>\n",
       "  </tbody>\n",
       "</table>\n",
       "</div>"
      ],
      "text/plain": [
       "   Unnamed: 0  class                                       conversation\n",
       "0           0  일반 대화            내 친구도 한 번도 본 적이 없대.언니는 입마개 쓰는 거 본 적 있어?\n",
       "1           1  일반 대화  밤에 방에서 혼자 보다 눈물 또르륵그치 ㅜㅜ 봐도 봐도 마지막 장면엔 눈물 쭈르륵....\n",
       "2           2  협박 대화  어이 아가야 \\n네.? 누구세요 . 아저씨.?\\n아 나 니네 아빠 친구야. 많이 컸...\n",
       "3           3  일반 대화  그거 하면 할인되는 거야? 어떤 거지? 너한테 처음 들음ㅋㅋ 나처럼 대중교통비 많이...\n",
       "4           4  갈취 대화  친구야 내친구야\\n무.무슨일이야?\\n왜그렇게 쫄고그래?\\n아니.\\n그건 그렇고 너 ..."
      ]
     },
     "execution_count": 20,
     "metadata": {},
     "output_type": "execute_result"
    }
   ],
   "source": [
    "data_path = \"/root/merged_df_1000.csv\"\n",
    "data = pd.read_csv(data_path)\n",
    "data.head()"
   ]
  },
  {
   "cell_type": "code",
   "execution_count": 21,
   "metadata": {
    "id": "9NL4Ex9H0SYy"
   },
   "outputs": [],
   "source": [
    "# class 대화 라벨링하기\n",
    "data['class'].unique()\n",
    "\n",
    "class_labels = {\"협박 대화\":0, \n",
    "                \"갈취 대화\":1, \n",
    "                \"직장 내 괴롭힘 대화\": 2, \n",
    "                \"기타 괴롭힘 대화\":3, \n",
    "                \"일반 대화\": 4}\n",
    "\n",
    "data['label'] = data['class'].map(class_labels)"
   ]
  },
  {
   "cell_type": "code",
   "execution_count": 23,
   "metadata": {
    "colab": {
     "base_uri": "https://localhost:8080/",
     "height": 206
    },
    "id": "Y3J_QUwD2wC2",
    "outputId": "1530a5e7-af52-4987-aab9-84690dd85566"
   },
   "outputs": [
    {
     "data": {
      "text/html": [
       "<div>\n",
       "<style scoped>\n",
       "    .dataframe tbody tr th:only-of-type {\n",
       "        vertical-align: middle;\n",
       "    }\n",
       "\n",
       "    .dataframe tbody tr th {\n",
       "        vertical-align: top;\n",
       "    }\n",
       "\n",
       "    .dataframe thead th {\n",
       "        text-align: right;\n",
       "    }\n",
       "</style>\n",
       "<table border=\"1\" class=\"dataframe\">\n",
       "  <thead>\n",
       "    <tr style=\"text-align: right;\">\n",
       "      <th></th>\n",
       "      <th>Unnamed: 0</th>\n",
       "      <th>class</th>\n",
       "      <th>conversation</th>\n",
       "      <th>label</th>\n",
       "    </tr>\n",
       "  </thead>\n",
       "  <tbody>\n",
       "    <tr>\n",
       "      <th>0</th>\n",
       "      <td>0</td>\n",
       "      <td>일반 대화</td>\n",
       "      <td>내 친구도 한 번도 본 적이 없대.언니는 입마개 쓰는 거 본 적 있어?</td>\n",
       "      <td>4</td>\n",
       "    </tr>\n",
       "    <tr>\n",
       "      <th>1</th>\n",
       "      <td>1</td>\n",
       "      <td>일반 대화</td>\n",
       "      <td>밤에 방에서 혼자 보다 눈물 또르륵그치 ㅜㅜ 봐도 봐도 마지막 장면엔 눈물 쭈르륵....</td>\n",
       "      <td>4</td>\n",
       "    </tr>\n",
       "    <tr>\n",
       "      <th>2</th>\n",
       "      <td>2</td>\n",
       "      <td>협박 대화</td>\n",
       "      <td>어이 아가야 \\n네.? 누구세요 . 아저씨.?\\n아 나 니네 아빠 친구야. 많이 컸...</td>\n",
       "      <td>0</td>\n",
       "    </tr>\n",
       "    <tr>\n",
       "      <th>3</th>\n",
       "      <td>3</td>\n",
       "      <td>일반 대화</td>\n",
       "      <td>그거 하면 할인되는 거야? 어떤 거지? 너한테 처음 들음ㅋㅋ 나처럼 대중교통비 많이...</td>\n",
       "      <td>4</td>\n",
       "    </tr>\n",
       "    <tr>\n",
       "      <th>4</th>\n",
       "      <td>4</td>\n",
       "      <td>갈취 대화</td>\n",
       "      <td>친구야 내친구야\\n무.무슨일이야?\\n왜그렇게 쫄고그래?\\n아니.\\n그건 그렇고 너 ...</td>\n",
       "      <td>1</td>\n",
       "    </tr>\n",
       "  </tbody>\n",
       "</table>\n",
       "</div>"
      ],
      "text/plain": [
       "   Unnamed: 0  class                                       conversation  label\n",
       "0           0  일반 대화            내 친구도 한 번도 본 적이 없대.언니는 입마개 쓰는 거 본 적 있어?      4\n",
       "1           1  일반 대화  밤에 방에서 혼자 보다 눈물 또르륵그치 ㅜㅜ 봐도 봐도 마지막 장면엔 눈물 쭈르륵....      4\n",
       "2           2  협박 대화  어이 아가야 \\n네.? 누구세요 . 아저씨.?\\n아 나 니네 아빠 친구야. 많이 컸...      0\n",
       "3           3  일반 대화  그거 하면 할인되는 거야? 어떤 거지? 너한테 처음 들음ㅋㅋ 나처럼 대중교통비 많이...      4\n",
       "4           4  갈취 대화  친구야 내친구야\\n무.무슨일이야?\\n왜그렇게 쫄고그래?\\n아니.\\n그건 그렇고 너 ...      1"
      ]
     },
     "execution_count": 23,
     "metadata": {},
     "output_type": "execute_result"
    }
   ],
   "source": [
    "data.head()"
   ]
  },
  {
   "cell_type": "markdown",
   "metadata": {
    "id": "Zs1HiNS43vuS"
   },
   "source": [
    "여기서 작은 모델만 training 하는 거니까 len 작게만...0.1만 뽑겠당."
   ]
  },
  {
   "cell_type": "code",
   "execution_count": 24,
   "metadata": {
    "colab": {
     "base_uri": "https://localhost:8080/"
    },
    "id": "BHNtwAFE3rh4",
    "outputId": "43bbbf11-713f-47aa-f6e7-7a05295d9edd"
   },
   "outputs": [
    {
     "data": {
      "text/plain": [
       "4950"
      ]
     },
     "execution_count": 24,
     "metadata": {},
     "output_type": "execute_result"
    }
   ],
   "source": [
    "len(data)"
   ]
  },
  {
   "cell_type": "code",
   "execution_count": 25,
   "metadata": {},
   "outputs": [],
   "source": [
    "# new_data_path = os.path.join(os.getenv('HOME'), \"aiffel/dktc/test (2).csv\")\n",
    "# new_data = pd.read_csv(new_data_path)"
   ]
  },
  {
   "cell_type": "code",
   "execution_count": 26,
   "metadata": {},
   "outputs": [],
   "source": [
    "# new_data.head()"
   ]
  },
  {
   "cell_type": "code",
   "execution_count": 27,
   "metadata": {},
   "outputs": [],
   "source": [
    "# test_data = new_data['text'].tolist()"
   ]
  },
  {
   "cell_type": "code",
   "execution_count": 28,
   "metadata": {
    "id": "NacyePLq36tY"
   },
   "outputs": [],
   "source": [
    "sampled_data = data\n",
    "sampled_data['conversation'] = sampled_data['conversation'].str.replace('\\n', \" \")\n"
   ]
  },
  {
   "cell_type": "code",
   "execution_count": 29,
   "metadata": {},
   "outputs": [],
   "source": [
    "sampled_data['conversation'] = sampled_data['conversation'].str.replace('nan', \"\")\n"
   ]
  },
  {
   "cell_type": "code",
   "execution_count": 30,
   "metadata": {},
   "outputs": [
    {
     "data": {
      "text/plain": [
       "np.int64(4950)"
      ]
     },
     "execution_count": 30,
     "metadata": {},
     "output_type": "execute_result"
    }
   ],
   "source": [
    "(sampled_data['conversation'].str.startswith('nan') == True).count()"
   ]
  },
  {
   "cell_type": "code",
   "execution_count": 31,
   "metadata": {},
   "outputs": [
    {
     "data": {
      "text/plain": [
       "4950"
      ]
     },
     "execution_count": 31,
     "metadata": {},
     "output_type": "execute_result"
    }
   ],
   "source": [
    "sampled_data['conversation'].dropna(inplace=True)\n",
    "len(sampled_data)"
   ]
  },
  {
   "cell_type": "code",
   "execution_count": 32,
   "metadata": {
    "colab": {
     "base_uri": "https://localhost:8080/"
    },
    "id": "6N641jVE4Qr3",
    "outputId": "bb1d7058-fd92-4aa4-cd37-0707dbd8d434"
   },
   "outputs": [
    {
     "data": {
      "text/plain": [
       "label\n",
       "3    1094\n",
       "4    1000\n",
       "1     981\n",
       "2     979\n",
       "0     896\n",
       "Name: count, dtype: int64"
      ]
     },
     "execution_count": 32,
     "metadata": {},
     "output_type": "execute_result"
    }
   ],
   "source": [
    "sampled_data['label'].value_counts()"
   ]
  },
  {
   "cell_type": "code",
   "execution_count": 33,
   "metadata": {
    "colab": {
     "base_uri": "https://localhost:8080/"
    },
    "id": "koDvs4kA_JSu",
    "outputId": "45513c95-8471-4004-aba2-074e0a6428d4"
   },
   "outputs": [
    {
     "name": "stdout",
     "output_type": "stream",
     "text": [
      "<class 'pandas.core.frame.DataFrame'>\n",
      "RangeIndex: 4950 entries, 0 to 4949\n",
      "Data columns (total 4 columns):\n",
      " #   Column        Non-Null Count  Dtype \n",
      "---  ------        --------------  ----- \n",
      " 0   Unnamed: 0    4950 non-null   int64 \n",
      " 1   class         4950 non-null   object\n",
      " 2   conversation  4950 non-null   object\n",
      " 3   label         4950 non-null   int64 \n",
      "dtypes: int64(2), object(2)\n",
      "memory usage: 154.8+ KB\n"
     ]
    }
   ],
   "source": [
    "#결측치 확인\n",
    "sampled_data.info()"
   ]
  },
  {
   "cell_type": "code",
   "execution_count": 34,
   "metadata": {
    "colab": {
     "base_uri": "https://localhost:8080/",
     "height": 53
    },
    "id": "DxZzx70K_RqQ",
    "outputId": "fb02232b-031b-405b-eb97-ef9617d8b524"
   },
   "outputs": [
    {
     "data": {
      "text/html": [
       "<div>\n",
       "<style scoped>\n",
       "    .dataframe tbody tr th:only-of-type {\n",
       "        vertical-align: middle;\n",
       "    }\n",
       "\n",
       "    .dataframe tbody tr th {\n",
       "        vertical-align: top;\n",
       "    }\n",
       "\n",
       "    .dataframe thead th {\n",
       "        text-align: right;\n",
       "    }\n",
       "</style>\n",
       "<table border=\"1\" class=\"dataframe\">\n",
       "  <thead>\n",
       "    <tr style=\"text-align: right;\">\n",
       "      <th></th>\n",
       "      <th>Unnamed: 0</th>\n",
       "      <th>class</th>\n",
       "      <th>conversation</th>\n",
       "      <th>label</th>\n",
       "    </tr>\n",
       "  </thead>\n",
       "  <tbody>\n",
       "    <tr>\n",
       "      <th>418</th>\n",
       "      <td>418</td>\n",
       "      <td>기타 괴롭힘 대화</td>\n",
       "      <td>새파랗게 젊은게 어디 여길 앉아있어 저 임산부에요 사지 멀쩡한게! 임신이 벼슬이냐?...</td>\n",
       "      <td>3</td>\n",
       "    </tr>\n",
       "    <tr>\n",
       "      <th>470</th>\n",
       "      <td>470</td>\n",
       "      <td>직장 내 괴롭힘 대화</td>\n",
       "      <td>김대리. 이번 주간 회의 발표 준비좀 해줘. 저 말입니까.? 응. 너가 해줘 과장님...</td>\n",
       "      <td>2</td>\n",
       "    </tr>\n",
       "    <tr>\n",
       "      <th>869</th>\n",
       "      <td>869</td>\n",
       "      <td>기타 괴롭힘 대화</td>\n",
       "      <td>니가 나 따라한다는 애구나?  내가? 나 너 안따라해. 머라는거야. 여기 사진 다 ...</td>\n",
       "      <td>3</td>\n",
       "    </tr>\n",
       "    <tr>\n",
       "      <th>993</th>\n",
       "      <td>993</td>\n",
       "      <td>기타 괴롭힘 대화</td>\n",
       "      <td>공책 돌려받길 원하면 빨리 뛰어봐. 이 굼벵아. 빨리 내놔. 빨릐 내놔아. 빨리 내...</td>\n",
       "      <td>3</td>\n",
       "    </tr>\n",
       "    <tr>\n",
       "      <th>1137</th>\n",
       "      <td>1137</td>\n",
       "      <td>기타 괴롭힘 대화</td>\n",
       "      <td>넌 얼굴이 왜 그렇게 생겼어? 내 얼굴이 왜? 다운증후군 걸린 애마냥 못생겼잖아 야...</td>\n",
       "      <td>3</td>\n",
       "    </tr>\n",
       "    <tr>\n",
       "      <th>...</th>\n",
       "      <td>...</td>\n",
       "      <td>...</td>\n",
       "      <td>...</td>\n",
       "      <td>...</td>\n",
       "    </tr>\n",
       "    <tr>\n",
       "      <th>4870</th>\n",
       "      <td>4870</td>\n",
       "      <td>직장 내 괴롭힘 대화</td>\n",
       "      <td>저 부장님 다음주에 연차 좀 쓰려고 하는데요 연차? 니가 왜 연차를 써 이 바쁜 와...</td>\n",
       "      <td>2</td>\n",
       "    </tr>\n",
       "    <tr>\n",
       "      <th>4874</th>\n",
       "      <td>4874</td>\n",
       "      <td>기타 괴롭힘 대화</td>\n",
       "      <td>맛이 쓰레기네요 별점 1개 드립니다 손님 어떤 부분이 부족했을까요? 정말 죄송합니다...</td>\n",
       "      <td>3</td>\n",
       "    </tr>\n",
       "    <tr>\n",
       "      <th>4910</th>\n",
       "      <td>4910</td>\n",
       "      <td>기타 괴롭힘 대화</td>\n",
       "      <td>푸핫 야 너 배좀 봐 밥이 들어가니? 아 왜그래요 아니 너만 보면 진짜 한심해서 그...</td>\n",
       "      <td>3</td>\n",
       "    </tr>\n",
       "    <tr>\n",
       "      <th>4923</th>\n",
       "      <td>4923</td>\n",
       "      <td>기타 괴롭힘 대화</td>\n",
       "      <td>야. 찐따야 오늘도 나왔네? 나 좀 내버려둬. 제발 찐따가 오늘 기분이 안 좋나? ...</td>\n",
       "      <td>3</td>\n",
       "    </tr>\n",
       "    <tr>\n",
       "      <th>4935</th>\n",
       "      <td>4935</td>\n",
       "      <td>기타 괴롭힘 대화</td>\n",
       "      <td>너 피아노 좀 쳐봐. 싫어. 왜 손가락 없다고 유세 떠는 거야? 이씨. 비행기라도 ...</td>\n",
       "      <td>3</td>\n",
       "    </tr>\n",
       "  </tbody>\n",
       "</table>\n",
       "<p>104 rows × 4 columns</p>\n",
       "</div>"
      ],
      "text/plain": [
       "      Unnamed: 0        class  \\\n",
       "418          418    기타 괴롭힘 대화   \n",
       "470          470  직장 내 괴롭힘 대화   \n",
       "869          869    기타 괴롭힘 대화   \n",
       "993          993    기타 괴롭힘 대화   \n",
       "1137        1137    기타 괴롭힘 대화   \n",
       "...          ...          ...   \n",
       "4870        4870  직장 내 괴롭힘 대화   \n",
       "4874        4874    기타 괴롭힘 대화   \n",
       "4910        4910    기타 괴롭힘 대화   \n",
       "4923        4923    기타 괴롭힘 대화   \n",
       "4935        4935    기타 괴롭힘 대화   \n",
       "\n",
       "                                           conversation  label  \n",
       "418   새파랗게 젊은게 어디 여길 앉아있어 저 임산부에요 사지 멀쩡한게! 임신이 벼슬이냐?...      3  \n",
       "470   김대리. 이번 주간 회의 발표 준비좀 해줘. 저 말입니까.? 응. 너가 해줘 과장님...      2  \n",
       "869   니가 나 따라한다는 애구나?  내가? 나 너 안따라해. 머라는거야. 여기 사진 다 ...      3  \n",
       "993   공책 돌려받길 원하면 빨리 뛰어봐. 이 굼벵아. 빨리 내놔. 빨릐 내놔아. 빨리 내...      3  \n",
       "1137  넌 얼굴이 왜 그렇게 생겼어? 내 얼굴이 왜? 다운증후군 걸린 애마냥 못생겼잖아 야...      3  \n",
       "...                                                 ...    ...  \n",
       "4870  저 부장님 다음주에 연차 좀 쓰려고 하는데요 연차? 니가 왜 연차를 써 이 바쁜 와...      2  \n",
       "4874  맛이 쓰레기네요 별점 1개 드립니다 손님 어떤 부분이 부족했을까요? 정말 죄송합니다...      3  \n",
       "4910  푸핫 야 너 배좀 봐 밥이 들어가니? 아 왜그래요 아니 너만 보면 진짜 한심해서 그...      3  \n",
       "4923  야. 찐따야 오늘도 나왔네? 나 좀 내버려둬. 제발 찐따가 오늘 기분이 안 좋나? ...      3  \n",
       "4935  너 피아노 좀 쳐봐. 싫어. 왜 손가락 없다고 유세 떠는 거야? 이씨. 비행기라도 ...      3  \n",
       "\n",
       "[104 rows x 4 columns]"
      ]
     },
     "execution_count": 34,
     "metadata": {},
     "output_type": "execute_result"
    }
   ],
   "source": [
    "#중복값 확인\n",
    "sampled_data[sampled_data['conversation'].duplicated()]\n"
   ]
  },
  {
   "cell_type": "code",
   "execution_count": 35,
   "metadata": {
    "id": "KrRoqu1u_hJ7"
   },
   "outputs": [],
   "source": [
    "#중복값 제거\n",
    "#sampled_data.drop_duplicates(subset = ['conversation'], inpla\n",
    "# ce = True)"
   ]
  },
  {
   "cell_type": "code",
   "execution_count": 36,
   "metadata": {
    "id": "2oVqd9Zu-jHT"
   },
   "outputs": [],
   "source": [
    "# def remove_null_conversations(dataframe):\n",
    "#     # 'conversation_split' 열의 null 값 찾기\n",
    "#     null_conversations = dataframe[dataframe['conversation_split'].isnull()]\n",
    "\n",
    "#     # null 값이 있는지 확인하고, 있다면 해당 행 제거\n",
    "#     if not null_conversations.empty:\n",
    "#         dataframe = dataframe.dropna(subset=['conversation_split'])\n",
    "\n",
    "#     return dataframe\n",
    "\n",
    "# 함수 호출\n",
    "cleaned_data = sampled_data\n",
    "\n",
    "# # 결과 확인\n",
    "# cleaned_data['label'].value_counts()"
   ]
  },
  {
   "cell_type": "code",
   "execution_count": 37,
   "metadata": {},
   "outputs": [
    {
     "data": {
      "text/plain": [
       "[]"
      ]
     },
     "execution_count": 37,
     "metadata": {},
     "output_type": "execute_result"
    }
   ],
   "source": [
    "nan_rows = cleaned_data[cleaned_data['conversation'].isna()].index.tolist()\n",
    "nan_rows"
   ]
  },
  {
   "cell_type": "markdown",
   "metadata": {
    "id": "QOuIOpwPDxKi"
   },
   "source": [
    "## BERT 불러오기"
   ]
  },
  {
   "cell_type": "code",
   "execution_count": 38,
   "metadata": {
    "id": "TtKASRfB-92o"
   },
   "outputs": [],
   "source": [
    "X_data = cleaned_data['conversation']\n",
    "y_data = cleaned_data['label']"
   ]
  },
  {
   "cell_type": "code",
   "execution_count": 39,
   "metadata": {
    "id": "Iv3OSmsREFXB"
   },
   "outputs": [],
   "source": [
    "TEST_SIZE = 0.2 # Train: Test = 8 :2 분리\n",
    "RANDOM_STATE = 2024\n",
    "X_train, X_test, y_train, y_test = train_test_split(X_data, y_data,\n",
    "                                                    test_size = TEST_SIZE,\n",
    "                                                    random_state = RANDOM_STATE,\n",
    "                                                    stratify = y_data)  #stratify하면 데이터 분리 이전의 라벨별 비율을 고려해 데이터 분리"
   ]
  },
  {
   "cell_type": "code",
   "execution_count": 40,
   "metadata": {
    "colab": {
     "base_uri": "https://localhost:8080/"
    },
    "id": "aiXH68wqhOnb",
    "outputId": "27a18de0-d061-443a-a0ca-28f97f10ae5d"
   },
   "outputs": [
    {
     "data": {
      "text/plain": [
       "3293    너 중국에서 왔다며 ? 응 진짜 중국은 마약하면 죽냐? 응? 그게 무슨말이야 아니 ...\n",
       "1507    우리 오늘 점심은 장어 먹읍시다 네 장어요? 왜 장어 못먹나 먹고 기운내게 아 제가...\n",
       "1095    강인턴 이제부터 회사 업무 외 모든 일은 나한테 보고하고 다녀오게. 네.? 어떤 일...\n",
       "3993    다들 의견 내보세요 아저는 안건이 더 좋다고 생각합니다 누가 자네 의견이 궁금하다했...\n",
       "749     내일 학교올때 십만원 가져와 이제 더이상 구할데가없어 너네 부모님에게 부탁해 안돼 ...\n",
       "                              ...                        \n",
       "1858             아침에 srt 추석 예매 대실패~와 그거 들어가면 대기시간 얼마나 나와?\n",
       "680     사장님 장사하기 싫소? 왜이러는가자네. 자릿세 내라고 말햇어안햇어? 아니 요즘세상에...\n",
       "3737    401호시죠? 저 301호에요. 밤에 너무 천장이 울려서 잠을 잘 수 없어요. 운동...\n",
       "3556    친구야 머하냐? 이거 정말 간지난다. 그지 이거 간지나지? 아빠가 두바이 갔다 오면...\n",
       "3474    너 지갑있지 없는데 만원만줘 없다니까 나 당장급해서그래 빌려주라갚아줄게 너가 갚아준...\n",
       "Name: conversation, Length: 3960, dtype: object"
      ]
     },
     "execution_count": 40,
     "metadata": {},
     "output_type": "execute_result"
    }
   ],
   "source": [
    "X_train"
   ]
  },
  {
   "cell_type": "code",
   "execution_count": 41,
   "metadata": {
    "id": "rnnFAn9vXMws"
   },
   "outputs": [],
   "source": [
    "X_train_list = X_train.tolist()\n",
    "X_test_list = X_test.tolist()\n",
    "y_train_list = y_train.tolist()\n",
    "y_test_list = y_test.tolist()"
   ]
  },
  {
   "cell_type": "code",
   "execution_count": 42,
   "metadata": {
    "colab": {
     "base_uri": "https://localhost:8080/"
    },
    "id": "BMkSL9_wXN-C",
    "outputId": "3b708a1d-8ce6-4899-eae3-50795c8d5a2e"
   },
   "outputs": [
    {
     "name": "stdout",
     "output_type": "stream",
     "text": [
      "<class 'list'>\n"
     ]
    }
   ],
   "source": [
    "print(type(X_train_list))"
   ]
  },
  {
   "cell_type": "code",
   "execution_count": 43,
   "metadata": {
    "id": "q83jA1pWX851"
   },
   "outputs": [],
   "source": [
    "ans_train = torch.tensor(y_train_list)"
   ]
  },
  {
   "cell_type": "code",
   "execution_count": 44,
   "metadata": {},
   "outputs": [
    {
     "data": {
      "text/plain": [
       "tensor([3, 2, 2,  ..., 0, 1, 1])"
      ]
     },
     "execution_count": 44,
     "metadata": {},
     "output_type": "execute_result"
    }
   ],
   "source": [
    "ans_train"
   ]
  },
  {
   "cell_type": "code",
   "execution_count": 45,
   "metadata": {
    "id": "7tLZ3OfvkIiA"
   },
   "outputs": [],
   "source": [
    "def create_batches(input_list, output_list, batch_size):\n",
    "  assert len(input_list) == len(output_list)\n",
    "  for i in range(0, len(input_list), batch_size):\n",
    "        yield (input_list[i:i + batch_size], output_list[i:i + batch_size])\n",
    "\n",
    "BATCH_SIZE = 64  # You can adjust this as needed"
   ]
  },
  {
   "cell_type": "code",
   "execution_count": 46,
   "metadata": {
    "colab": {
     "base_uri": "https://localhost:8080/",
     "height": 760
    },
    "id": "-zVJ_RWpBMZh",
    "outputId": "f9aa3cbc-2ba4-4899-b63e-3be732e2e503"
   },
   "outputs": [
    {
     "name": "stderr",
     "output_type": "stream",
     "text": [
      "/usr/local/lib/python3.10/dist-packages/transformers/optimization.py:588: FutureWarning: This implementation of AdamW is deprecated and will be removed in a future version. Use the PyTorch implementation torch.optim.AdamW instead, or set `no_deprecation_warning=True` to disable this warning\n",
      "  warnings.warn(\n"
     ]
    }
   ],
   "source": [
    "# 런타임 1분 소요\n",
    "# 활성화 함수 AdamW 불러오기\n",
    "from transformers import AdamW\n",
    "\n",
    "# 활성화 함수 AdamW 인스턴스화\n",
    "optimizer = AdamW(model.parameters(), lr=0.00001)"
   ]
  },
  {
   "cell_type": "code",
   "execution_count": 47,
   "metadata": {
    "colab": {
     "base_uri": "https://localhost:8080/",
     "height": 760
    },
    "id": "-zVJ_RWpBMZh",
    "outputId": "f9aa3cbc-2ba4-4899-b63e-3be732e2e503"
   },
   "outputs": [
    {
     "name": "stdout",
     "output_type": "stream",
     "text": [
      "epoch:1, average loss:1.5588747262954712\n",
      "epoch:2, average loss:1.3576208353042603\n",
      "epoch:3, average loss:1.2029882669448853\n",
      "epoch:4, average loss:1.0725219249725342\n",
      "epoch:5, average loss:0.9573574066162109\n",
      "CPU times: user 1min 32s, sys: 996 ms, total: 1min 33s\n",
      "Wall time: 1min 25s\n"
     ]
    }
   ],
   "source": [
    "%%time\n",
    "# 모델을 학습 모드로 변경\n",
    "model.train()\n",
    "\n",
    "# 에포크 수 지정 및 손실을 담은 빈 컨테이너 리스트 생성\n",
    "epochs = 5\n",
    "losses = []\n",
    "\n",
    "# 동결 후 추가된 층만 훈련\n",
    "for epoch in range(epochs):\n",
    "    temp = []\n",
    "    for batch, labels in create_batches(X_train_list, ans_train, BATCH_SIZE):\n",
    "        inputs = tokenizer.batch_encode_plus(batch, return_tensors=\"pt\", padding=True, truncation=True).to(device)\n",
    "        labels = labels.to(device)\n",
    "        \n",
    "        # 그래디언트(기울기) 초기화\n",
    "        optimizer.zero_grad()\n",
    "        # 변수 eval_list에 담긴 여섯 개 문장을 토크나이저에 넣고 인코딩\n",
    "        #inputs = tokenizer.batch_encode_plus(X_train_list, return_tensors=\"pt\", padding=True, truncation=True)\n",
    "        # 위에서 생성된 input 변수에 담긴 키(key)와 키값(value)을 **inputs 형식(**kwargs 형식)으로 모델에 전달\n",
    "        # 거기에 추가로 labels를 텐서 타입으로 모델에 전달\n",
    "        outputs = model(**inputs, labels=labels)\n",
    "        # 로짓 추출\n",
    "        logits = outputs.logits\n",
    "        \n",
    "        # print(outputs.loss)\n",
    "        # break\n",
    "    \n",
    "        # 손실 추출\n",
    "        loss = outputs.loss\n",
    "        \n",
    "        # 오차역전파\n",
    "        loss.backward()\n",
    "\n",
    "        # 가중치(weight) 업데이트\n",
    "        optimizer.step()\n",
    "\n",
    "        # 손실을 빈 컨테이너 losses에 순서대로 저장\n",
    "        temp.append(loss)\n",
    "\n",
    "        # 에포크 및 손실 값 출력\n",
    "\n",
    "    # 에폭당 평균 손실 계산 및 출력\n",
    "    avg_epoch_loss = sum(temp) / len(temp)\n",
    "    print(f\"epoch:{epoch+1}, average loss:{avg_epoch_loss}\")\n",
    "    losses.append(avg_epoch_loss)"
   ]
  },
  {
   "cell_type": "code",
   "execution_count": 48,
   "metadata": {
    "id": "vIPo05fuaDqV"
   },
   "outputs": [
    {
     "name": "stdout",
     "output_type": "stream",
     "text": [
      "[1.5588747262954712, 1.3576208353042603, 1.2029882669448853, 1.0725219249725342, 0.9573574066162109]\n"
     ]
    }
   ],
   "source": [
    "new_losses = [i.item() for i in losses]\n",
    "print(new_losses)"
   ]
  },
  {
   "cell_type": "code",
   "execution_count": 49,
   "metadata": {},
   "outputs": [
    {
     "data": {
      "image/png": "[encoded data removed]",
      "text/plain": [
       "<Figure size 640x480 with 1 Axes>"
      ]
     },
     "metadata": {},
     "output_type": "display_data"
    }
   ],
   "source": [
    "import matplotlib.pyplot as plt\n",
    "plt.plot(new_losses);\n"
   ]
  },
  {
   "cell_type": "code",
   "execution_count": 50,
   "metadata": {},
   "outputs": [
    {
     "data": {
      "text/plain": [
       "([0, 1, 2, 3, 4, 5, 6], [7, 8, 9])"
      ]
     },
     "execution_count": 50,
     "metadata": {},
     "output_type": "execute_result"
    }
   ],
   "source": [
    "t = [i for i in range(10)]\n",
    "t[:-3], t[-3:]"
   ]
  },
  {
   "cell_type": "code",
   "execution_count": 51,
   "metadata": {},
   "outputs": [],
   "source": [
    "# 동결 모델 저장\n",
    "# model save\n",
    "\n",
    "model.save_pretrained(\"/root/ckpt/kluebert_trasfer_learning\", from_pt=True) "
   ]
  },
  {
   "cell_type": "code",
   "execution_count": null,
   "metadata": {},
   "outputs": [],
   "source": [
    "# 동결 후 3개 풀기\n",
    "NUM_OF_UNFREEZE = 9\n",
    "\n",
    "for param in model.bert.encoder.layer[-NUM_OF_UNFREEZE:].parameters():\n",
    "    param.requires_grad = True"
   ]
  },
  {
   "cell_type": "code",
   "execution_count": null,
   "metadata": {},
   "outputs": [],
   "source": [
    "%%time\n",
    "\n",
    "# 에포크 수 지정 및 손실을 담은 빈 컨테이너 리스트 생성\n",
    "epochs = 5\n",
    "losses = []\n",
    "\n",
    "# 파인튜닝\n",
    "for epoch in range(epochs):\n",
    "    temp = []\n",
    "    for batch, labels in create_batches(X_train_list, ans_train, BATCH_SIZE):\n",
    "        inputs = tokenizer.batch_encode_plus(batch, return_tensors=\"pt\", padding=True, truncation=True).to(device)\n",
    "        labels = labels.to(device)\n",
    "        \n",
    "        # 그래디언트(기울기) 초기화\n",
    "        optimizer.zero_grad()\n",
    "        # 변수 eval_list에 담긴 여섯 개 문장을 토크나이저에 넣고 인코딩\n",
    "        #inputs = tokenizer.batch_encode_plus(X_train_list, return_tensors=\"pt\", padding=True, truncation=True)\n",
    "        # 위에서 생성된 input 변수에 담긴 키(key)와 키값(value)을 **inputs 형식(**kwargs 형식)으로 모델에 전달\n",
    "        # 거기에 추가로 labels를 텐서 타입으로 모델에 전달\n",
    "        outputs = model(**inputs, labels=labels)\n",
    "        # 로짓 추출\n",
    "        logits = outputs.logits\n",
    "        \n",
    "        # print(outputs.loss)\n",
    "        # break\n",
    "    \n",
    "        # 손실 추출\n",
    "        loss = outputs.loss\n",
    "        \n",
    "        # 오차역전파\n",
    "        loss.backward()\n",
    "\n",
    "        # 가중치(weight) 업데이트\n",
    "        optimizer.step()\n",
    "\n",
    "        # 손실을 빈 컨테이너 losses에 순서대로 저장\n",
    "        temp.append(loss)\n",
    "\n",
    "        # 에포크 및 손실 값 출력\n",
    "\n",
    "    # 에폭당 평균 손실 계산 및 출력\n",
    "    avg_epoch_loss = sum(temp) / len(temp)\n",
    "    print(f\"epoch:{epoch+1}, average loss:{avg_epoch_loss}\")\n",
    "    losses.append(avg_epoch_loss)"
   ]
  },
  {
   "cell_type": "code",
   "execution_count": null,
   "metadata": {},
   "outputs": [],
   "source": [
    "for k, v in class_labels.items():\n",
    "    print(k, v)"
   ]
  },
  {
   "cell_type": "code",
   "execution_count": null,
   "metadata": {},
   "outputs": [],
   "source": [
    "dic = {v:k for k, v in class_labels.items()}\n",
    "dic"
   ]
  },
  {
   "cell_type": "code",
   "execution_count": null,
   "metadata": {
    "id": "WRmV8uJPbclC"
   },
   "outputs": [],
   "source": [
    "# 파인 튜닝 이후 추론\n",
    "# 모델을 eval 모델로 전환\n",
    "model.eval()\n",
    "\n",
    "# 모델 예측을 담을 preds라는 빈 컨테이너 리스트 생성\n",
    "preds = []\n",
    "\n",
    "# 이하 코드의 설명은 문제 45 코드 참조\n",
    "with torch.no_grad():\n",
    "  for sentence in X_test_list:\n",
    "    inputs = tokenizer.encode(sentence, return_tensors=\"pt\",padding=True, truncation=True)\n",
    "    inputs = inputs.to(device)\n",
    "    outputs = model(inputs)\n",
    "    logits = outputs.logits\n",
    "    pred = logits.argmax(-1).item()\n",
    "    logits = logits.detach().cpu().numpy()\n",
    "    preds.append(logits.argmax(-1).item())\n",
    "    print(f\"{dic[pred]}:{sentence}\")\n",
    "\n"
   ]
  },
  {
   "cell_type": "code",
   "execution_count": null,
   "metadata": {
    "id": "D3N2jh0ecAAi"
   },
   "outputs": [],
   "source": [
    "ans = torch.tensor(y_test_list)\n",
    "preds = torch.tensor(preds)\n",
    "print(f\"Accuracy:{100 * sum(ans.detach().clone()==preds)/len(ans.detach().clone())}%\")"
   ]
  },
  {
   "cell_type": "code",
   "execution_count": null,
   "metadata": {},
   "outputs": [],
   "source": [
    "from sklearn.metrics import f1_score"
   ]
  },
  {
   "cell_type": "code",
   "execution_count": null,
   "metadata": {},
   "outputs": [],
   "source": [
    "preds_tensor = torch.tensor(preds).tolist()\n",
    "\n",
    "# 실제 라벨 (y_test_list)와 예측 라벨 (preds_tensor) 비교하여 F1 Score 계산\n",
    "f1 = f1_score(y_test_list, preds_tensor, average='weighted')\n",
    "print(f\"F1 Score: {f1}\")"
   ]
  },
  {
   "cell_type": "code",
   "execution_count": null,
   "metadata": {},
   "outputs": [],
   "source": [
    "type(model)"
   ]
  },
  {
   "cell_type": "code",
   "execution_count": null,
   "metadata": {},
   "outputs": [],
   "source": [
    "# model save\n",
    "model.save_pretrained(\"/root/ckpt/finetune_kluebert_first\", from_pt=True) \n"
   ]
  },
  {
   "cell_type": "markdown",
   "metadata": {},
   "source": [
    "# Inference"
   ]
  },
  {
   "cell_type": "code",
   "execution_count": null,
   "metadata": {},
   "outputs": [],
   "source": [
    "# import re\n",
    "# from tqdm import tqdm\n",
    "# import urllib.request\n",
    "# import seaborn as sns\n",
    "# import matplotlib.pyplot as plt\n",
    "# import numpy as np\n",
    "# import pandas as pd\n",
    "# from sklearn.model_selection import train_test_split\n",
    "# from sklearn.metrics import accuracy_score, f1_score, precision_score, recall_score, \\\n",
    "#                             roc_auc_score, confusion_matrix, classification_report, \\\n",
    "#                             matthews_corrcoef, cohen_kappa_score, log_loss\n",
    "# from torch import nn\n",
    "# import torch\n",
    "# from torch.utils.data import Dataset, DataLoader"
   ]
  },
  {
   "cell_type": "code",
   "execution_count": null,
   "metadata": {},
   "outputs": [],
   "source": [
    "# # model load\n",
    "# model = AutoModelForSequenceClassification.from_pretrained(\"/root/ckpt/finetune_kluebert_first\")\n",
    "# model.to(device)"
   ]
  },
  {
   "cell_type": "code",
   "execution_count": null,
   "metadata": {},
   "outputs": [],
   "source": [
    "# load test.csv\n",
    "test_df = pd.read_csv('/root/test.csv', index_col=0)\n",
    "test_df.head()"
   ]
  },
  {
   "cell_type": "code",
   "execution_count": null,
   "metadata": {},
   "outputs": [],
   "source": [
    "X_test_list = test_df['text'].tolist()"
   ]
  },
  {
   "cell_type": "code",
   "execution_count": null,
   "metadata": {},
   "outputs": [],
   "source": [
    "device"
   ]
  },
  {
   "cell_type": "code",
   "execution_count": null,
   "metadata": {},
   "outputs": [],
   "source": [
    "# evaluation for test and make submission.csv\n",
    "# 파인 튜닝 이후 추론\n",
    "# 모델을 eval 모델로 전환\n",
    "model.eval()\n",
    "\n",
    "# 모델 예측을 담을 preds라는 빈 컨테이너 리스트 생성\n",
    "preds = []\n",
    "\n",
    "# 이하 코드의 설명은 문제 45 코드 참조\n",
    "with torch.no_grad():\n",
    "  for sentence in X_test_list:\n",
    "    \n",
    "    inputs = tokenizer.encode(sentence, return_tensors=\"pt\",padding=True, truncation=True)\n",
    "    inputs = inputs.to(device)\n",
    "    \n",
    "    outputs = model(inputs)\n",
    "    \n",
    "    logits = outputs.logits\n",
    "    pred = logits.argmax(-1).item()\n",
    "    logits = logits.detach().cpu().numpy()\n",
    "    preds.append(logits.argmax(-1).item())\n",
    "    print(f\"{dic[pred]}:{sentence}\")\n",
    "\n"
   ]
  },
  {
   "cell_type": "code",
   "execution_count": null,
   "metadata": {},
   "outputs": [],
   "source": [
    "# add to test_df\n",
    "test_df['class'] = preds\n",
    "test_df"
   ]
  },
  {
   "cell_type": "code",
   "execution_count": null,
   "metadata": {},
   "outputs": [],
   "source": [
    "test_df['class'].value_counts()"
   ]
  },
  {
   "cell_type": "code",
   "execution_count": null,
   "metadata": {},
   "outputs": [],
   "source": [
    "# Save result dataset for leaderboard\n",
    "test_df.to_csv('/root/new_submission_2_freeze_unfreeze.csv')"
   ]
  },
  {
   "cell_type": "code",
   "execution_count": null,
   "metadata": {},
   "outputs": [],
   "source": []
  }
 ],
 "metadata": {
  "colab": {
   "provenance": []
  },
  "kernelspec": {
   "display_name": "Python 3 (ipykernel)",
   "language": "python",
   "name": "python3"
  },
  "language_info": {
   "codemirror_mode": {
    "name": "ipython",
    "version": 3
   },
   "file_extension": ".py",
   "mimetype": "text/x-python",
   "name": "python",
   "nbconvert_exporter": "python",
   "pygments_lexer": "ipython3",
   "version": "3.10.12"
  }
 },
 "nbformat": 4,
 "nbformat_minor": 1
}
