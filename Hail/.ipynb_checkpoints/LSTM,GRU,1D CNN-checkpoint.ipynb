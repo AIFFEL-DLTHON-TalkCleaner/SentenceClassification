{
 "cells": [
  {
   "cell_type": "markdown",
   "id": "d8772499",
   "metadata": {},
   "source": [
    "# LSTM, GRU, 1D CNN MODEL 비교 및 시각화"
   ]
  },
  {
   "cell_type": "code",
   "execution_count": 3,
   "id": "a4b64493",
   "metadata": {
    "scrolled": true
   },
   "outputs": [
    {
     "name": "stdout",
     "output_type": "stream",
     "text": [
      "Mon Jun 24 17:27:22 2024       \r\n",
      "+-----------------------------------------------------------------------------+\r\n",
      "| NVIDIA-SMI 470.239.06   Driver Version: 470.239.06   CUDA Version: 11.4     |\r\n",
      "|-------------------------------+----------------------+----------------------+\r\n",
      "| GPU  Name        Persistence-M| Bus-Id        Disp.A | Volatile Uncorr. ECC |\r\n",
      "| Fan  Temp  Perf  Pwr:Usage/Cap|         Memory-Usage | GPU-Util  Compute M. |\r\n",
      "|                               |                      |               MIG M. |\r\n",
      "|===============================+======================+======================|\r\n",
      "|   0  Tesla T4            Off  | 00000000:00:04.0 Off |                    0 |\r\n",
      "| N/A   56C    P8    10W /  70W |      0MiB / 15109MiB |      0%      Default |\r\n",
      "|                               |                      |                  N/A |\r\n",
      "+-------------------------------+----------------------+----------------------+\r\n",
      "                                                                               \r\n",
      "+-----------------------------------------------------------------------------+\r\n",
      "| Processes:                                                                  |\r\n",
      "|  GPU   GI   CI        PID   Type   Process name                  GPU Memory |\r\n",
      "|        ID   ID                                                   Usage      |\r\n",
      "|=============================================================================|\r\n",
      "|  No running processes found                                                 |\r\n",
      "+-----------------------------------------------------------------------------+\r\n"
     ]
    }
   ],
   "source": [
    "# GPU로 Tesla T4가 준비돼있습니다.\n",
    "!nvidia-smi"
   ]
  },
  {
   "cell_type": "code",
   "execution_count": 4,
   "id": "52b4b18c",
   "metadata": {},
   "outputs": [],
   "source": [
    "import pandas as pd\n",
    "import tensorflow as tf\n",
    "from tensorflow import keras\n",
    "from sklearn.model_selection import train_test_split\n",
    "import wandb\n",
    "from wandb.keras import WandbCallback\n",
    "from sklearn.preprocessing import LabelEncoder\n",
    "import json"
   ]
  },
  {
   "cell_type": "markdown",
   "id": "93cc7e60",
   "metadata": {},
   "source": [
    "# 1. 데이터 가져오기"
   ]
  },
  {
   "cell_type": "code",
   "execution_count": 5,
   "id": "fd3bd194",
   "metadata": {},
   "outputs": [
    {
     "data": {
      "text/html": [
       "<div>\n",
       "<style scoped>\n",
       "    .dataframe tbody tr th:only-of-type {\n",
       "        vertical-align: middle;\n",
       "    }\n",
       "\n",
       "    .dataframe tbody tr th {\n",
       "        vertical-align: top;\n",
       "    }\n",
       "\n",
       "    .dataframe thead th {\n",
       "        text-align: right;\n",
       "    }\n",
       "</style>\n",
       "<table border=\"1\" class=\"dataframe\">\n",
       "  <thead>\n",
       "    <tr style=\"text-align: right;\">\n",
       "      <th></th>\n",
       "      <th>idx</th>\n",
       "      <th>class</th>\n",
       "      <th>conversation</th>\n",
       "    </tr>\n",
       "  </thead>\n",
       "  <tbody>\n",
       "    <tr>\n",
       "      <th>0</th>\n",
       "      <td>0</td>\n",
       "      <td>협박 대화</td>\n",
       "      <td>지금 너 스스로를 죽여달라고 애원하는 것인가?\\n 아닙니다. 죄송합니다.\\n 죽을 ...</td>\n",
       "    </tr>\n",
       "    <tr>\n",
       "      <th>1</th>\n",
       "      <td>1</td>\n",
       "      <td>협박 대화</td>\n",
       "      <td>길동경찰서입니다.\\n9시 40분 마트에 폭발물을 설치할거다.\\n네?\\n똑바로 들어 ...</td>\n",
       "    </tr>\n",
       "    <tr>\n",
       "      <th>2</th>\n",
       "      <td>2</td>\n",
       "      <td>기타 괴롭힘 대화</td>\n",
       "      <td>너 되게 귀여운거 알지? 나보다 작은 남자는 첨봤어.\\n그만해. 니들 놀리는거 재미...</td>\n",
       "    </tr>\n",
       "    <tr>\n",
       "      <th>3</th>\n",
       "      <td>3</td>\n",
       "      <td>갈취 대화</td>\n",
       "      <td>어이 거기\\n예??\\n너 말이야 너. 이리 오라고\\n무슨 일.\\n너 옷 좋아보인다?...</td>\n",
       "    </tr>\n",
       "    <tr>\n",
       "      <th>4</th>\n",
       "      <td>4</td>\n",
       "      <td>갈취 대화</td>\n",
       "      <td>저기요 혹시 날이 너무 뜨겁잖아요? 저희 회사에서 이 선크림 파는데 한 번 손등에 ...</td>\n",
       "    </tr>\n",
       "  </tbody>\n",
       "</table>\n",
       "</div>"
      ],
      "text/plain": [
       "   idx      class                                       conversation\n",
       "0    0      협박 대화  지금 너 스스로를 죽여달라고 애원하는 것인가?\\n 아닙니다. 죄송합니다.\\n 죽을 ...\n",
       "1    1      협박 대화  길동경찰서입니다.\\n9시 40분 마트에 폭발물을 설치할거다.\\n네?\\n똑바로 들어 ...\n",
       "2    2  기타 괴롭힘 대화  너 되게 귀여운거 알지? 나보다 작은 남자는 첨봤어.\\n그만해. 니들 놀리는거 재미...\n",
       "3    3      갈취 대화  어이 거기\\n예??\\n너 말이야 너. 이리 오라고\\n무슨 일.\\n너 옷 좋아보인다?...\n",
       "4    4      갈취 대화  저기요 혹시 날이 너무 뜨겁잖아요? 저희 회사에서 이 선크림 파는데 한 번 손등에 ..."
      ]
     },
     "execution_count": 5,
     "metadata": {},
     "output_type": "execute_result"
    }
   ],
   "source": [
    "train_data_path =\"~/aiffel/dktc/data/train.csv\"\n",
    "data = pd.read_csv(train_data_path)\n",
    "data.head()"
   ]
  },
  {
   "cell_type": "code",
   "execution_count": 6,
   "id": "f6bc8500",
   "metadata": {},
   "outputs": [
    {
     "data": {
      "text/plain": [
       "(3950, 3)"
      ]
     },
     "execution_count": 6,
     "metadata": {},
     "output_type": "execute_result"
    }
   ],
   "source": [
    "data.shape"
   ]
  },
  {
   "cell_type": "markdown",
   "id": "a1e87107",
   "metadata": {},
   "source": [
    "# 2. 데이터 전처리"
   ]
  },
  {
   "cell_type": "markdown",
   "id": "2ca858ec",
   "metadata": {},
   "source": [
    "### 2-1)결측치, 중복데이터 확인"
   ]
  },
  {
   "cell_type": "code",
   "execution_count": 7,
   "id": "3f063825",
   "metadata": {},
   "outputs": [
    {
     "name": "stdout",
     "output_type": "stream",
     "text": [
      "idx             0\n",
      "class           0\n",
      "conversation    0\n",
      "dtype: int64\n"
     ]
    }
   ],
   "source": [
    "print(data.isna().sum())"
   ]
  },
  {
   "cell_type": "code",
   "execution_count": 8,
   "id": "66c5d024",
   "metadata": {},
   "outputs": [
    {
     "data": {
      "text/html": [
       "<div>\n",
       "<style scoped>\n",
       "    .dataframe tbody tr th:only-of-type {\n",
       "        vertical-align: middle;\n",
       "    }\n",
       "\n",
       "    .dataframe tbody tr th {\n",
       "        vertical-align: top;\n",
       "    }\n",
       "\n",
       "    .dataframe thead th {\n",
       "        text-align: right;\n",
       "    }\n",
       "</style>\n",
       "<table border=\"1\" class=\"dataframe\">\n",
       "  <thead>\n",
       "    <tr style=\"text-align: right;\">\n",
       "      <th></th>\n",
       "      <th>idx</th>\n",
       "      <th>class</th>\n",
       "      <th>conversation</th>\n",
       "      <th>duplicates</th>\n",
       "    </tr>\n",
       "  </thead>\n",
       "  <tbody>\n",
       "    <tr>\n",
       "      <th>392</th>\n",
       "      <td>392</td>\n",
       "      <td>기타 괴롭힘 대화</td>\n",
       "      <td>병신이 아이스크림 먹게 돼 있냐?\\n난 먹으면 안 돼? 그만 좀 해.\\n당연히 안 ...</td>\n",
       "      <td>True</td>\n",
       "    </tr>\n",
       "    <tr>\n",
       "      <th>523</th>\n",
       "      <td>523</td>\n",
       "      <td>직장 내 괴롭힘 대화</td>\n",
       "      <td>과장님. 저 이번에 휴가 좀 갔다와도 되겠습니까.?\\n휴가? 왜??\\n좀 쉬다가 오...</td>\n",
       "      <td>True</td>\n",
       "    </tr>\n",
       "    <tr>\n",
       "      <th>789</th>\n",
       "      <td>789</td>\n",
       "      <td>기타 괴롭힘 대화</td>\n",
       "      <td>야 얘 이 쪽 손가락 세 개밖에 없다\\n엥 손가락이 세개밖에 없을 수가 있어?\\n봐...</td>\n",
       "      <td>True</td>\n",
       "    </tr>\n",
       "    <tr>\n",
       "      <th>824</th>\n",
       "      <td>824</td>\n",
       "      <td>기타 괴롭힘 대화</td>\n",
       "      <td>이야 내동생 여자친구한테 편지쓰네?\\n 아 형 돌려줘.\\n 어디보자. 사랑하는 여친...</td>\n",
       "      <td>True</td>\n",
       "    </tr>\n",
       "    <tr>\n",
       "      <th>869</th>\n",
       "      <td>869</td>\n",
       "      <td>직장 내 괴롭힘 대화</td>\n",
       "      <td>지현씨 나 소개팅 좀 시켜줘봐\\n네? 저 주변에 아는 사람이 없어서요\\n아 상사라 ...</td>\n",
       "      <td>True</td>\n",
       "    </tr>\n",
       "    <tr>\n",
       "      <th>...</th>\n",
       "      <td>...</td>\n",
       "      <td>...</td>\n",
       "      <td>...</td>\n",
       "      <td>...</td>\n",
       "    </tr>\n",
       "    <tr>\n",
       "      <th>3797</th>\n",
       "      <td>3797</td>\n",
       "      <td>기타 괴롭힘 대화</td>\n",
       "      <td>너 이번 방학 때 쌍꺼풀 수술 하고왔지?\\n아닌데?\\n아니긴 뭐가 아니야. 눈이 이...</td>\n",
       "      <td>True</td>\n",
       "    </tr>\n",
       "    <tr>\n",
       "      <th>3798</th>\n",
       "      <td>3798</td>\n",
       "      <td>기타 괴롭힘 대화</td>\n",
       "      <td>안녕하세요 지금 먹방 촬영중인데 촬영가능할까요?\\n안돼요\\n한번만 안될까요?\\n안돼...</td>\n",
       "      <td>True</td>\n",
       "    </tr>\n",
       "    <tr>\n",
       "      <th>3855</th>\n",
       "      <td>3855</td>\n",
       "      <td>기타 괴롭힘 대화</td>\n",
       "      <td>그 소문 진짜야? 너가 다른 애들 뒷담화하고 다녔다며?\\n응? 나 그런 적 없는데?...</td>\n",
       "      <td>True</td>\n",
       "    </tr>\n",
       "    <tr>\n",
       "      <th>3874</th>\n",
       "      <td>3874</td>\n",
       "      <td>기타 괴롭힘 대화</td>\n",
       "      <td>야 니 왤캐 못생겼냐?\\n뭐라그랬냐?\\n으 나 보고 말하지마 니 얼굴보면 토나올거 ...</td>\n",
       "      <td>True</td>\n",
       "    </tr>\n",
       "    <tr>\n",
       "      <th>3928</th>\n",
       "      <td>3928</td>\n",
       "      <td>기타 괴롭힘 대화</td>\n",
       "      <td>새파랗게 젊은게 어디 여길 앉아있어\\n저 임산부에요\\n사지 멀쩡한게! 임신이 벼슬이...</td>\n",
       "      <td>True</td>\n",
       "    </tr>\n",
       "  </tbody>\n",
       "</table>\n",
       "<p>104 rows × 4 columns</p>\n",
       "</div>"
      ],
      "text/plain": [
       "       idx        class                                       conversation  \\\n",
       "392    392    기타 괴롭힘 대화  병신이 아이스크림 먹게 돼 있냐?\\n난 먹으면 안 돼? 그만 좀 해.\\n당연히 안 ...   \n",
       "523    523  직장 내 괴롭힘 대화  과장님. 저 이번에 휴가 좀 갔다와도 되겠습니까.?\\n휴가? 왜??\\n좀 쉬다가 오...   \n",
       "789    789    기타 괴롭힘 대화  야 얘 이 쪽 손가락 세 개밖에 없다\\n엥 손가락이 세개밖에 없을 수가 있어?\\n봐...   \n",
       "824    824    기타 괴롭힘 대화  이야 내동생 여자친구한테 편지쓰네?\\n 아 형 돌려줘.\\n 어디보자. 사랑하는 여친...   \n",
       "869    869  직장 내 괴롭힘 대화  지현씨 나 소개팅 좀 시켜줘봐\\n네? 저 주변에 아는 사람이 없어서요\\n아 상사라 ...   \n",
       "...    ...          ...                                                ...   \n",
       "3797  3797    기타 괴롭힘 대화  너 이번 방학 때 쌍꺼풀 수술 하고왔지?\\n아닌데?\\n아니긴 뭐가 아니야. 눈이 이...   \n",
       "3798  3798    기타 괴롭힘 대화  안녕하세요 지금 먹방 촬영중인데 촬영가능할까요?\\n안돼요\\n한번만 안될까요?\\n안돼...   \n",
       "3855  3855    기타 괴롭힘 대화  그 소문 진짜야? 너가 다른 애들 뒷담화하고 다녔다며?\\n응? 나 그런 적 없는데?...   \n",
       "3874  3874    기타 괴롭힘 대화  야 니 왤캐 못생겼냐?\\n뭐라그랬냐?\\n으 나 보고 말하지마 니 얼굴보면 토나올거 ...   \n",
       "3928  3928    기타 괴롭힘 대화  새파랗게 젊은게 어디 여길 앉아있어\\n저 임산부에요\\n사지 멀쩡한게! 임신이 벼슬이...   \n",
       "\n",
       "      duplicates  \n",
       "392         True  \n",
       "523         True  \n",
       "789         True  \n",
       "824         True  \n",
       "869         True  \n",
       "...          ...  \n",
       "3797        True  \n",
       "3798        True  \n",
       "3855        True  \n",
       "3874        True  \n",
       "3928        True  \n",
       "\n",
       "[104 rows x 4 columns]"
      ]
     },
     "execution_count": 8,
     "metadata": {},
     "output_type": "execute_result"
    }
   ],
   "source": [
    "#중복인 행 확인\n",
    "data['duplicates'] = data.duplicated(['conversation'])\n",
    "data[data['duplicates'] == True]"
   ]
  },
  {
   "cell_type": "code",
   "execution_count": 9,
   "id": "08d27816",
   "metadata": {},
   "outputs": [],
   "source": [
    "#중복제거\n",
    "data = data.drop_duplicates(['conversation'])"
   ]
  },
  {
   "cell_type": "code",
   "execution_count": 10,
   "id": "910c393c",
   "metadata": {},
   "outputs": [
    {
     "data": {
      "text/html": [
       "<div>\n",
       "<style scoped>\n",
       "    .dataframe tbody tr th:only-of-type {\n",
       "        vertical-align: middle;\n",
       "    }\n",
       "\n",
       "    .dataframe tbody tr th {\n",
       "        vertical-align: top;\n",
       "    }\n",
       "\n",
       "    .dataframe thead th {\n",
       "        text-align: right;\n",
       "    }\n",
       "</style>\n",
       "<table border=\"1\" class=\"dataframe\">\n",
       "  <thead>\n",
       "    <tr style=\"text-align: right;\">\n",
       "      <th></th>\n",
       "      <th>conversation</th>\n",
       "      <th>class</th>\n",
       "    </tr>\n",
       "  </thead>\n",
       "  <tbody>\n",
       "    <tr>\n",
       "      <th>0</th>\n",
       "      <td>지금 너 스스로를 죽여달라고 애원하는 것인가?\\n 아닙니다. 죄송합니다.\\n 죽을 ...</td>\n",
       "      <td>협박 대화</td>\n",
       "    </tr>\n",
       "    <tr>\n",
       "      <th>1</th>\n",
       "      <td>길동경찰서입니다.\\n9시 40분 마트에 폭발물을 설치할거다.\\n네?\\n똑바로 들어 ...</td>\n",
       "      <td>협박 대화</td>\n",
       "    </tr>\n",
       "    <tr>\n",
       "      <th>2</th>\n",
       "      <td>너 되게 귀여운거 알지? 나보다 작은 남자는 첨봤어.\\n그만해. 니들 놀리는거 재미...</td>\n",
       "      <td>기타 괴롭힘 대화</td>\n",
       "    </tr>\n",
       "    <tr>\n",
       "      <th>3</th>\n",
       "      <td>어이 거기\\n예??\\n너 말이야 너. 이리 오라고\\n무슨 일.\\n너 옷 좋아보인다?...</td>\n",
       "      <td>갈취 대화</td>\n",
       "    </tr>\n",
       "    <tr>\n",
       "      <th>4</th>\n",
       "      <td>저기요 혹시 날이 너무 뜨겁잖아요? 저희 회사에서 이 선크림 파는데 한 번 손등에 ...</td>\n",
       "      <td>갈취 대화</td>\n",
       "    </tr>\n",
       "  </tbody>\n",
       "</table>\n",
       "</div>"
      ],
      "text/plain": [
       "                                        conversation      class\n",
       "0  지금 너 스스로를 죽여달라고 애원하는 것인가?\\n 아닙니다. 죄송합니다.\\n 죽을 ...      협박 대화\n",
       "1  길동경찰서입니다.\\n9시 40분 마트에 폭발물을 설치할거다.\\n네?\\n똑바로 들어 ...      협박 대화\n",
       "2  너 되게 귀여운거 알지? 나보다 작은 남자는 첨봤어.\\n그만해. 니들 놀리는거 재미...  기타 괴롭힘 대화\n",
       "3  어이 거기\\n예??\\n너 말이야 너. 이리 오라고\\n무슨 일.\\n너 옷 좋아보인다?...      갈취 대화\n",
       "4  저기요 혹시 날이 너무 뜨겁잖아요? 저희 회사에서 이 선크림 파는데 한 번 손등에 ...      갈취 대화"
      ]
     },
     "execution_count": 10,
     "metadata": {},
     "output_type": "execute_result"
    }
   ],
   "source": [
    "#conversation과 class만 남김\n",
    "data = data[['conversation','class']]\n",
    "data.head()"
   ]
  },
  {
   "cell_type": "code",
   "execution_count": 11,
   "id": "69a223f6",
   "metadata": {},
   "outputs": [
    {
     "data": {
      "text/plain": [
       "(3846, 2)"
      ]
     },
     "execution_count": 11,
     "metadata": {},
     "output_type": "execute_result"
    }
   ],
   "source": [
    "data.shape"
   ]
  },
  {
   "cell_type": "markdown",
   "id": "67f1bdf4",
   "metadata": {},
   "source": [
    "### 2-2)레이블인코딩"
   ]
  },
  {
   "cell_type": "code",
   "execution_count": 12,
   "id": "99a51c39",
   "metadata": {
    "scrolled": true
   },
   "outputs": [
    {
     "data": {
      "text/html": [
       "<div>\n",
       "<style scoped>\n",
       "    .dataframe tbody tr th:only-of-type {\n",
       "        vertical-align: middle;\n",
       "    }\n",
       "\n",
       "    .dataframe tbody tr th {\n",
       "        vertical-align: top;\n",
       "    }\n",
       "\n",
       "    .dataframe thead th {\n",
       "        text-align: right;\n",
       "    }\n",
       "</style>\n",
       "<table border=\"1\" class=\"dataframe\">\n",
       "  <thead>\n",
       "    <tr style=\"text-align: right;\">\n",
       "      <th></th>\n",
       "      <th>conversation</th>\n",
       "      <th>class</th>\n",
       "    </tr>\n",
       "  </thead>\n",
       "  <tbody>\n",
       "    <tr>\n",
       "      <th>0</th>\n",
       "      <td>지금 너 스스로를 죽여달라고 애원하는 것인가?\\n 아닙니다. 죄송합니다.\\n 죽을 ...</td>\n",
       "      <td>3</td>\n",
       "    </tr>\n",
       "    <tr>\n",
       "      <th>1</th>\n",
       "      <td>길동경찰서입니다.\\n9시 40분 마트에 폭발물을 설치할거다.\\n네?\\n똑바로 들어 ...</td>\n",
       "      <td>3</td>\n",
       "    </tr>\n",
       "    <tr>\n",
       "      <th>2</th>\n",
       "      <td>너 되게 귀여운거 알지? 나보다 작은 남자는 첨봤어.\\n그만해. 니들 놀리는거 재미...</td>\n",
       "      <td>1</td>\n",
       "    </tr>\n",
       "    <tr>\n",
       "      <th>3</th>\n",
       "      <td>어이 거기\\n예??\\n너 말이야 너. 이리 오라고\\n무슨 일.\\n너 옷 좋아보인다?...</td>\n",
       "      <td>0</td>\n",
       "    </tr>\n",
       "    <tr>\n",
       "      <th>4</th>\n",
       "      <td>저기요 혹시 날이 너무 뜨겁잖아요? 저희 회사에서 이 선크림 파는데 한 번 손등에 ...</td>\n",
       "      <td>0</td>\n",
       "    </tr>\n",
       "  </tbody>\n",
       "</table>\n",
       "</div>"
      ],
      "text/plain": [
       "                                        conversation  class\n",
       "0  지금 너 스스로를 죽여달라고 애원하는 것인가?\\n 아닙니다. 죄송합니다.\\n 죽을 ...      3\n",
       "1  길동경찰서입니다.\\n9시 40분 마트에 폭발물을 설치할거다.\\n네?\\n똑바로 들어 ...      3\n",
       "2  너 되게 귀여운거 알지? 나보다 작은 남자는 첨봤어.\\n그만해. 니들 놀리는거 재미...      1\n",
       "3  어이 거기\\n예??\\n너 말이야 너. 이리 오라고\\n무슨 일.\\n너 옷 좋아보인다?...      0\n",
       "4  저기요 혹시 날이 너무 뜨겁잖아요? 저희 회사에서 이 선크림 파는데 한 번 손등에 ...      0"
      ]
     },
     "execution_count": 12,
     "metadata": {},
     "output_type": "execute_result"
    }
   ],
   "source": [
    "CLASS_NAMES = ['협박 대화', '갈취 대화', '직장 내 괴롭힘 대화', '기타 괴롭힘 대화']\n",
    "\n",
    "encoder = LabelEncoder()\n",
    "encoder.fit(CLASS_NAMES)\n",
    "\n",
    "data['class'] = encoder.transform(data['class'])\n",
    "\n",
    "corpus = data[\"conversation\"]\n",
    "data.head()"
   ]
  },
  {
   "cell_type": "markdown",
   "id": "8a10985e",
   "metadata": {},
   "source": [
    "### 2-3)토크나이저 및 단어사전 생성"
   ]
  },
  {
   "cell_type": "code",
   "execution_count": 13,
   "id": "b15fe58e",
   "metadata": {},
   "outputs": [
    {
     "name": "stdout",
     "output_type": "stream",
     "text": [
      "[[  1 210   1 ...   1  42   1]\n",
      " [  1   1   1 ...   1   1 401]\n",
      " [  1  97   1 ...   1 136   1]\n",
      " ...\n",
      " [495   3 110 ...  27   1   1]\n",
      " [  1   1 151 ... 348   1   1]\n",
      " [  1   1   1 ... 159 113   1]] <keras_preprocessing.text.Tokenizer object at 0x7fa328566eb0>\n"
     ]
    }
   ],
   "source": [
    "def tokenize(corpus):\n",
    "    #토크나이저 객체생성\n",
    "    tokenizer = tf.keras.preprocessing.text.Tokenizer(\n",
    "        num_words=1000, \n",
    "        filters=' ',\n",
    "        oov_token=\"<unk>\")\n",
    "    \n",
    "    tokenizer.fit_on_texts(corpus) #corpus 기준으로 단어 사전 생성\n",
    "    tensor = tokenizer.texts_to_sequences(corpus) #정수시퀀스\n",
    "    \n",
    "    #시퀀스패딩\n",
    "    tensor = tf.keras.preprocessing.sequence.pad_sequences(tensor, \n",
    "                                                           padding='post',\n",
    "                                                           maxlen=20) #최대길이\n",
    "    print(tensor,tokenizer)\n",
    "    return tensor, tokenizer\n",
    "\n",
    "#데이터셋에서 토큰화 및 패딩작업 결과를 저장\n",
    "tensor, tokenizer = tokenize(corpus)"
   ]
  },
  {
   "cell_type": "markdown",
   "id": "903362c3",
   "metadata": {},
   "source": [
    "### 2-4)데이터 분할"
   ]
  },
  {
   "cell_type": "code",
   "execution_count": 14,
   "id": "54ca440b",
   "metadata": {},
   "outputs": [],
   "source": [
    "X_train = tensor[:3300]\n",
    "y_train = data['class'][:3300]\n",
    "X_val = tensor[3300:3550]\n",
    "y_val = data['class'][3300:3550]\n",
    "X_test = tensor[3750:]\n",
    "y_test = data['class'][3750:]"
   ]
  },
  {
   "cell_type": "markdown",
   "id": "3a402cbe",
   "metadata": {},
   "source": [
    "# 3. 모델생성 및 훈련"
   ]
  },
  {
   "cell_type": "markdown",
   "id": "44c9c18b",
   "metadata": {},
   "source": [
    "## 3-1) 모델 구성"
   ]
  },
  {
   "cell_type": "code",
   "execution_count": 45,
   "id": "b0524860",
   "metadata": {},
   "outputs": [],
   "source": [
    "import tensorflow as tf\n",
    "from tensorflow.keras.models import Sequential\n",
    "from tensorflow.keras.layers import Embedding,SimpleRNN, LSTM, GRU, Conv1D, GlobalMaxPooling1D, Dense\n",
    "\n",
    "vocab_size = 1000  # 어휘 사전의 크기\n",
    "word_vector_dim = 20  # 단어 하나를 표현하는 임베딩 벡터의 차원수\n",
    "\n",
    "def create_rnn_model(vocab_size, word_vector_dim):\n",
    "    model = Sequential()\n",
    "    model.add(Embedding(vocab_size, word_vector_dim, input_length=None))\n",
    "    model.add(SimpleRNN(256)) \n",
    "    model.add(Dropout(0.2)) \n",
    "    model.add(Dense(64, activation='relu'))\n",
    "    model.add(Dense(4, activation='softmax')) \n",
    "    return model\n",
    "\n",
    "def create_lstm_model(vocab_size, word_vector_dim):\n",
    "    model = Sequential()\n",
    "    model.add(Embedding(vocab_size, word_vector_dim, input_length=None))\n",
    "    model.add(LSTM(256)) \n",
    "    model.add(Dropout(0.2))\n",
    "    model.add(Dense(64, activation='relu'))\n",
    "    model.add(Dense(4, activation='softmax'))\n",
    "    return model\n",
    "\n",
    "def create_gru_model(vocab_size, word_vector_dim):\n",
    "    model = Sequential()\n",
    "    model.add(Embedding(vocab_size, word_vector_dim, input_length=None))\n",
    "    model.add(GRU(256)) \n",
    "    model.add(Dropout(0.2))\n",
    "    model.add(Dense(64, activation='relu'))\n",
    "    model.add(Dense(4, activation='softmax'))\n",
    "    return model\n",
    "\n",
    "def create_1d_cnn_model(vocab_size, word_vector_dim):\n",
    "    model = Sequential()\n",
    "    model.add(Embedding(vocab_size, word_vector_dim, input_length=None))\n",
    "    model.add(Conv1D(248, 3, activation='relu')) \n",
    "    model.add(GlobalMaxPooling1D())\n",
    "    model.add(Dropout(0.2))\n",
    "    model.add(Dense(64, activation='relu'))\n",
    "    model.add(Dense(4, activation='softmax'))  \n",
    "    return model"
   ]
  },
  {
   "cell_type": "code",
   "execution_count": 46,
   "id": "d69ed7d7",
   "metadata": {},
   "outputs": [],
   "source": [
    "# R1 Score 함수정의\n",
    "import tensorflow as tf\n",
    "\n",
    "def r1_score(y_true, y_pred):\n",
    "    # 예측값 중 가장 높은 확률을 가진 클래스 인덱스 추출\n",
    "    pred_top_k = tf.math.argmax(y_pred, axis=-1)\n",
    "\n",
    "    # 실제 정답 클래스 인덱스 추출 (원-핫 인코딩된 경우)\n",
    "    true_top_k = tf.math.argmax(y_true, axis=-1)\n",
    "\n",
    "    # 예측값과 실제 정답이 일치하는 경우 True, 아니면 False\n",
    "    correct = tf.math.equal(pred_top_k, true_top_k)\n",
    "\n",
    "    # True 개수를 전체 데이터 개수로 나눠 R1 계산\n",
    "    return tf.reduce_mean(tf.cast(correct, tf.float32))"
   ]
  },
  {
   "cell_type": "code",
   "execution_count": 47,
   "id": "ba42bf25",
   "metadata": {},
   "outputs": [],
   "source": [
    "#콜백함수\n",
    "from tensorflow.keras.callbacks import EarlyStopping\n",
    "\n",
    "early_stopping = EarlyStopping(\n",
    "    monitor='val_loss',  # 검증 손실을 기준으로 조기 종료 여부 판단\n",
    "    patience=5,         # 검증 손실이 개선되지 않는 epoch를 5회까지 허용\n",
    "    restore_best_weights=True  # 가장 좋은 검증 손실을 낸 모델의 가중치 복원\n",
    ")"
   ]
  },
  {
   "cell_type": "code",
   "execution_count": 48,
   "id": "f506a3cb",
   "metadata": {},
   "outputs": [],
   "source": [
    "models = [create_rnn_model(vocab_size, word_vector_dim),\n",
    "          create_lstm_model(vocab_size, word_vector_dim), \n",
    "          create_gru_model(vocab_size, word_vector_dim), \n",
    "          create_1d_cnn_model(vocab_size, word_vector_dim)]\n",
    "model_names = ['RNN', 'LSTM', 'GRU', '1D CNN']"
   ]
  },
  {
   "cell_type": "markdown",
   "id": "dfb0bd72",
   "metadata": {},
   "source": [
    "## 3-2) 모델학습 및 평가"
   ]
  },
  {
   "cell_type": "code",
   "execution_count": 49,
   "id": "2ac961b8",
   "metadata": {
    "scrolled": true
   },
   "outputs": [
    {
     "name": "stdout",
     "output_type": "stream",
     "text": [
      "Epoch 1/50\n",
      "104/104 [==============================] - 3s 22ms/step - loss: 1.3904 - accuracy: 0.2794 - r1_score: 0.2779 - val_loss: 1.4022 - val_accuracy: 0.2440 - val_r1_score: 0.2611\n",
      "Epoch 2/50\n",
      "104/104 [==============================] - 2s 20ms/step - loss: 1.3708 - accuracy: 0.3064 - r1_score: 0.2293 - val_loss: 1.4132 - val_accuracy: 0.2760 - val_r1_score: 0.1160\n",
      "Epoch 3/50\n",
      "104/104 [==============================] - 2s 20ms/step - loss: 1.3266 - accuracy: 0.3561 - r1_score: 0.2737 - val_loss: 1.5371 - val_accuracy: 0.2720 - val_r1_score: 0.0583\n",
      "Epoch 4/50\n",
      "104/104 [==============================] - 2s 20ms/step - loss: 1.2409 - accuracy: 0.4391 - r1_score: 0.2308 - val_loss: 1.4521 - val_accuracy: 0.2960 - val_r1_score: 0.0652\n",
      "Epoch 5/50\n",
      "104/104 [==============================] - 2s 20ms/step - loss: 1.1164 - accuracy: 0.5276 - r1_score: 0.2359 - val_loss: 1.4201 - val_accuracy: 0.3240 - val_r1_score: 0.1364\n",
      "Epoch 6/50\n",
      "104/104 [==============================] - 2s 20ms/step - loss: 0.9452 - accuracy: 0.6097 - r1_score: 0.2602 - val_loss: 1.2929 - val_accuracy: 0.4400 - val_r1_score: 0.3567\n",
      "Epoch 7/50\n",
      "104/104 [==============================] - 2s 20ms/step - loss: 0.8163 - accuracy: 0.6742 - r1_score: 0.2545 - val_loss: 1.6051 - val_accuracy: 0.3560 - val_r1_score: 0.1608\n",
      "Epoch 8/50\n",
      "104/104 [==============================] - 2s 20ms/step - loss: 0.7106 - accuracy: 0.7245 - r1_score: 0.2440 - val_loss: 1.3800 - val_accuracy: 0.4440 - val_r1_score: 0.3002\n",
      "Epoch 9/50\n",
      "104/104 [==============================] - 2s 20ms/step - loss: 0.5874 - accuracy: 0.7803 - r1_score: 0.2473 - val_loss: 1.5763 - val_accuracy: 0.4440 - val_r1_score: 0.3353\n",
      "Epoch 10/50\n",
      "104/104 [==============================] - 2s 20ms/step - loss: 0.5184 - accuracy: 0.7991 - r1_score: 0.2434 - val_loss: 1.6855 - val_accuracy: 0.4480 - val_r1_score: 0.3909\n",
      "Epoch 11/50\n",
      "104/104 [==============================] - 2s 20ms/step - loss: 0.4237 - accuracy: 0.8524 - r1_score: 0.2509 - val_loss: 1.8999 - val_accuracy: 0.3920 - val_r1_score: 0.3080\n",
      "3/3 [==============================] - 0s 4ms/step - loss: 1.1988 - accuracy: 0.4375 - r1_score: 0.3542\n",
      "Epoch 1/50\n",
      "104/104 [==============================] - 3s 8ms/step - loss: 1.3816 - accuracy: 0.2800 - r1_score: 0.2918 - val_loss: 1.3604 - val_accuracy: 0.2800 - val_r1_score: 0.0000e+00\n",
      "Epoch 2/50\n",
      "104/104 [==============================] - 0s 5ms/step - loss: 1.1953 - accuracy: 0.4518 - r1_score: 0.3468 - val_loss: 1.1300 - val_accuracy: 0.4640 - val_r1_score: 0.3032\n",
      "Epoch 3/50\n",
      "104/104 [==============================] - 0s 5ms/step - loss: 0.9700 - accuracy: 0.5897 - r1_score: 0.2638 - val_loss: 1.0487 - val_accuracy: 0.5280 - val_r1_score: 0.2212\n",
      "Epoch 4/50\n",
      "104/104 [==============================] - 0s 5ms/step - loss: 0.8004 - accuracy: 0.6891 - r1_score: 0.2055 - val_loss: 1.1043 - val_accuracy: 0.5760 - val_r1_score: 0.1617\n",
      "Epoch 5/50\n",
      "104/104 [==============================] - 0s 5ms/step - loss: 0.7087 - accuracy: 0.7182 - r1_score: 0.2212 - val_loss: 1.0462 - val_accuracy: 0.5760 - val_r1_score: 0.2963\n",
      "Epoch 6/50\n",
      "104/104 [==============================] - 0s 5ms/step - loss: 0.6580 - accuracy: 0.7430 - r1_score: 0.2266 - val_loss: 1.1029 - val_accuracy: 0.5880 - val_r1_score: 0.1860\n",
      "Epoch 7/50\n",
      "104/104 [==============================] - 1s 5ms/step - loss: 0.6050 - accuracy: 0.7700 - r1_score: 0.2239 - val_loss: 1.1238 - val_accuracy: 0.6080 - val_r1_score: 0.1725\n",
      "Epoch 8/50\n",
      "104/104 [==============================] - 0s 5ms/step - loss: 0.5635 - accuracy: 0.7885 - r1_score: 0.2395 - val_loss: 1.1501 - val_accuracy: 0.6080 - val_r1_score: 0.2446\n",
      "Epoch 9/50\n",
      "104/104 [==============================] - 0s 5ms/step - loss: 0.5187 - accuracy: 0.8036 - r1_score: 0.2317 - val_loss: 1.2791 - val_accuracy: 0.5960 - val_r1_score: 0.3002\n",
      "Epoch 10/50\n",
      "104/104 [==============================] - 0s 5ms/step - loss: 0.4968 - accuracy: 0.8121 - r1_score: 0.2449 - val_loss: 1.2068 - val_accuracy: 0.6160 - val_r1_score: 0.2758\n",
      "3/3 [==============================] - 0s 3ms/step - loss: 0.9243 - accuracy: 0.6667 - r1_score: 0.3125\n",
      "Epoch 1/50\n",
      "104/104 [==============================] - 2s 8ms/step - loss: 1.3827 - accuracy: 0.2752 - r1_score: 0.2233 - val_loss: 1.3711 - val_accuracy: 0.2760 - val_r1_score: 0.0682\n",
      "Epoch 2/50\n",
      "104/104 [==============================] - 0s 5ms/step - loss: 1.1741 - accuracy: 0.4633 - r1_score: 0.2662 - val_loss: 1.1171 - val_accuracy: 0.4880 - val_r1_score: 0.2545\n",
      "Epoch 3/50\n",
      "104/104 [==============================] - 0s 5ms/step - loss: 0.9372 - accuracy: 0.6103 - r1_score: 0.2578 - val_loss: 1.0882 - val_accuracy: 0.5040 - val_r1_score: 0.1881\n",
      "Epoch 4/50\n",
      "104/104 [==============================] - 0s 5ms/step - loss: 0.8116 - accuracy: 0.6618 - r1_score: 0.2629 - val_loss: 1.1530 - val_accuracy: 0.5480 - val_r1_score: 0.1608\n",
      "Epoch 5/50\n",
      "104/104 [==============================] - 0s 4ms/step - loss: 0.7223 - accuracy: 0.7094 - r1_score: 0.2590 - val_loss: 1.1164 - val_accuracy: 0.5560 - val_r1_score: 0.3323\n",
      "Epoch 6/50\n",
      "104/104 [==============================] - 0s 5ms/step - loss: 0.6920 - accuracy: 0.7191 - r1_score: 0.2698 - val_loss: 1.1702 - val_accuracy: 0.5680 - val_r1_score: 0.2455\n",
      "Epoch 7/50\n",
      "104/104 [==============================] - 0s 5ms/step - loss: 0.6333 - accuracy: 0.7527 - r1_score: 0.2653 - val_loss: 1.1830 - val_accuracy: 0.5400 - val_r1_score: 0.1764\n",
      "Epoch 8/50\n",
      "104/104 [==============================] - 0s 4ms/step - loss: 0.5866 - accuracy: 0.7767 - r1_score: 0.2464 - val_loss: 1.2730 - val_accuracy: 0.5440 - val_r1_score: 0.2719\n",
      "3/3 [==============================] - 0s 3ms/step - loss: 1.0801 - accuracy: 0.5625 - r1_score: 0.1979\n",
      "Epoch 1/50\n",
      "104/104 [==============================] - 1s 5ms/step - loss: 1.3669 - accuracy: 0.3212 - r1_score: 0.4835 - val_loss: 1.3109 - val_accuracy: 0.3280 - val_r1_score: 0.1851\n",
      "Epoch 2/50\n",
      "104/104 [==============================] - 0s 3ms/step - loss: 1.1534 - accuracy: 0.5133 - r1_score: 0.2461 - val_loss: 1.1206 - val_accuracy: 0.5520 - val_r1_score: 0.1695\n",
      "Epoch 3/50\n",
      "104/104 [==============================] - 0s 3ms/step - loss: 0.8810 - accuracy: 0.6479 - r1_score: 0.2443 - val_loss: 1.1222 - val_accuracy: 0.5360 - val_r1_score: 0.1686\n",
      "Epoch 4/50\n",
      "104/104 [==============================] - 0s 3ms/step - loss: 0.7199 - accuracy: 0.7227 - r1_score: 0.2500 - val_loss: 1.1150 - val_accuracy: 0.5600 - val_r1_score: 0.2377\n",
      "Epoch 5/50\n",
      "104/104 [==============================] - 0s 4ms/step - loss: 0.6193 - accuracy: 0.7642 - r1_score: 0.2563 - val_loss: 1.2488 - val_accuracy: 0.5400 - val_r1_score: 0.2007\n",
      "Epoch 6/50\n",
      "104/104 [==============================] - 0s 3ms/step - loss: 0.5413 - accuracy: 0.7970 - r1_score: 0.2476 - val_loss: 1.2723 - val_accuracy: 0.5760 - val_r1_score: 0.2242\n",
      "Epoch 7/50\n",
      "104/104 [==============================] - 0s 3ms/step - loss: 0.4739 - accuracy: 0.8261 - r1_score: 0.2524 - val_loss: 1.3378 - val_accuracy: 0.5560 - val_r1_score: 0.2689\n",
      "Epoch 8/50\n",
      "104/104 [==============================] - 0s 3ms/step - loss: 0.3993 - accuracy: 0.8579 - r1_score: 0.2431 - val_loss: 1.4419 - val_accuracy: 0.5720 - val_r1_score: 0.2581\n",
      "Epoch 9/50\n",
      "104/104 [==============================] - 0s 3ms/step - loss: 0.3450 - accuracy: 0.8748 - r1_score: 0.2404 - val_loss: 1.6601 - val_accuracy: 0.5320 - val_r1_score: 0.3362\n",
      "3/3 [==============================] - 0s 3ms/step - loss: 1.0184 - accuracy: 0.6250 - r1_score: 0.2708\n"
     ]
    }
   ],
   "source": [
    "import matplotlib.pyplot as plt\n",
    "\n",
    "\n",
    "# 훈련 및 평가\n",
    "histories = []\n",
    "\n",
    "losses = []\n",
    "accuracies = []\n",
    "r1s = []\n",
    "\n",
    "for model in models:\n",
    "    model.compile(optimizer='adam', \n",
    "                  loss='sparse_categorical_crossentropy', \n",
    "                  metrics=['accuracy',r1_score])\n",
    "    \n",
    "    history = model.fit(X_train, y_train, epochs=50, \n",
    "                        validation_data=(X_val, y_val), \n",
    "                        callbacks = [early_stopping])\n",
    "\n",
    "    histories.append(history)\n",
    "    \n",
    "    loss, accuracy, r1  = model.evaluate(X_test, y_test)\n",
    "    \n",
    "    losses.append(loss)\n",
    "    accuracies.append(accuracy)\n",
    "    r1s.append(r1)"
   ]
  },
  {
   "cell_type": "code",
   "execution_count": 59,
   "id": "183156ed",
   "metadata": {},
   "outputs": [
    {
     "name": "stdout",
     "output_type": "stream",
     "text": [
      "RNN > Loss: 1.19877, Accuracy: 0.625, R1 Score: 0.35417\n",
      "LSTM > Loss: 0.92427, Accuracy: 0.625, R1 Score: 0.31250\n",
      "GRU > Loss: 1.08012, Accuracy: 0.625, R1 Score: 0.19792\n",
      "1D CNN > Loss: 1.01837, Accuracy: 0.625, R1 Score: 0.27083\n"
     ]
    }
   ],
   "source": [
    "for model, loss, acc, r1 in zip(model_names,losses,accuracies,r1s):\n",
    "    print(f\"{model} > Loss: {loss:0.5f}, Accuracy: {accuracy}, R1 Score: {r1:0.5f}\")"
   ]
  },
  {
   "cell_type": "markdown",
   "id": "8d0d9fe5",
   "metadata": {},
   "source": [
    "LSTM 모델: 가장 낮은 손실 값을 보여 전반적으로 예측 성능이 가장 좋음\n",
    "RNN 모델: 가장 높은 R1 점수를 보여 불균형한 데이터셋에서 각 클래스를 더 잘 예측"
   ]
  },
  {
   "cell_type": "code",
   "execution_count": 52,
   "id": "835d022c",
   "metadata": {},
   "outputs": [
    {
     "data": {
      "image/png": "[encoded data removed]",
      "text/plain": [
       "<Figure size 432x288 with 1 Axes>"
      ]
     },
     "metadata": {
      "needs_background": "light"
     },
     "output_type": "display_data"
    }
   ],
   "source": [
    "# 시각화\n",
    "for i, history in enumerate(histories):\n",
    "    plt.plot(history.history['loss'], label=f'{model_names[i]} Loss')\n",
    "    plt.plot(history.history['val_loss'], label=f'{model_names[i]} Val Loss')\n",
    "plt.legend()\n",
    "plt.show()"
   ]
  },
  {
   "cell_type": "code",
   "execution_count": null,
   "id": "1f7a2984",
   "metadata": {},
   "outputs": [],
   "source": []
  }
 ],
 "metadata": {
  "kernelspec": {
   "display_name": "Python 3 (ipykernel)",
   "language": "python",
   "name": "python3"
  },
  "language_info": {
   "codemirror_mode": {
    "name": "ipython",
    "version": 3
   },
   "file_extension": ".py",
   "mimetype": "text/x-python",
   "name": "python",
   "nbconvert_exporter": "python",
   "pygments_lexer": "ipython3",
   "version": "3.9.7"
  }
 },
 "nbformat": 4,
 "nbformat_minor": 5
}
