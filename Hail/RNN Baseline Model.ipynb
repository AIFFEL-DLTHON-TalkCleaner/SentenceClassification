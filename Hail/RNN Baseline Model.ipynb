{
 "cells": [
  {
   "cell_type": "markdown",
   "id": "c9b4cc33",
   "metadata": {},
   "source": [
    "# RNN을 활용한 BaselineModel"
   ]
  },
  {
   "cell_type": "code",
   "execution_count": 59,
   "id": "e1fbf0d5",
   "metadata": {},
   "outputs": [
    {
     "name": "stdout",
     "output_type": "stream",
     "text": [
      "Wed Jun 26 00:46:01 2024       \r\n",
      "+-----------------------------------------------------------------------------+\r\n",
      "| NVIDIA-SMI 470.239.06   Driver Version: 470.239.06   CUDA Version: 11.4     |\r\n",
      "|-------------------------------+----------------------+----------------------+\r\n",
      "| GPU  Name        Persistence-M| Bus-Id        Disp.A | Volatile Uncorr. ECC |\r\n",
      "| Fan  Temp  Perf  Pwr:Usage/Cap|         Memory-Usage | GPU-Util  Compute M. |\r\n",
      "|                               |                      |               MIG M. |\r\n",
      "|===============================+======================+======================|\r\n",
      "|   0  Tesla T4            Off  | 00000000:00:04.0 Off |                    0 |\r\n",
      "| N/A   77C    P0    34W /  70W |    466MiB / 15109MiB |      0%      Default |\r\n",
      "|                               |                      |                  N/A |\r\n",
      "+-------------------------------+----------------------+----------------------+\r\n",
      "                                                                               \r\n",
      "+-----------------------------------------------------------------------------+\r\n",
      "| Processes:                                                                  |\r\n",
      "|  GPU   GI   CI        PID   Type   Process name                  GPU Memory |\r\n",
      "|        ID   ID                                                   Usage      |\r\n",
      "|=============================================================================|\r\n",
      "+-----------------------------------------------------------------------------+\r\n"
     ]
    }
   ],
   "source": [
    "# GPU로 Tesla T4가 준비돼있습니다.\n",
    "!nvidia-smi"
   ]
  },
  {
   "cell_type": "code",
   "execution_count": 60,
   "id": "71092ffe",
   "metadata": {},
   "outputs": [],
   "source": [
    "import pandas as pd\n",
    "import tensorflow as tf\n",
    "from tensorflow import keras\n",
    "from sklearn.model_selection import train_test_split\n",
    "from sklearn.preprocessing import LabelEncoder\n",
    "import json"
   ]
  },
  {
   "cell_type": "markdown",
   "id": "49d8485c",
   "metadata": {},
   "source": [
    "## 1. 데이터 가져오기"
   ]
  },
  {
   "cell_type": "code",
   "execution_count": 61,
   "id": "54918129",
   "metadata": {
    "scrolled": false
   },
   "outputs": [
    {
     "data": {
      "text/html": [
       "<div>\n",
       "<style scoped>\n",
       "    .dataframe tbody tr th:only-of-type {\n",
       "        vertical-align: middle;\n",
       "    }\n",
       "\n",
       "    .dataframe tbody tr th {\n",
       "        vertical-align: top;\n",
       "    }\n",
       "\n",
       "    .dataframe thead th {\n",
       "        text-align: right;\n",
       "    }\n",
       "</style>\n",
       "<table border=\"1\" class=\"dataframe\">\n",
       "  <thead>\n",
       "    <tr style=\"text-align: right;\">\n",
       "      <th></th>\n",
       "      <th>idx</th>\n",
       "      <th>class</th>\n",
       "      <th>conversation</th>\n",
       "    </tr>\n",
       "  </thead>\n",
       "  <tbody>\n",
       "    <tr>\n",
       "      <th>0</th>\n",
       "      <td>0</td>\n",
       "      <td>협박 대화</td>\n",
       "      <td>지금 너 스스로를 죽여달라고 애원하는 것인가?\\n 아닙니다. 죄송합니다.\\n 죽을 ...</td>\n",
       "    </tr>\n",
       "    <tr>\n",
       "      <th>1</th>\n",
       "      <td>1</td>\n",
       "      <td>협박 대화</td>\n",
       "      <td>길동경찰서입니다.\\n9시 40분 마트에 폭발물을 설치할거다.\\n네?\\n똑바로 들어 ...</td>\n",
       "    </tr>\n",
       "    <tr>\n",
       "      <th>2</th>\n",
       "      <td>2</td>\n",
       "      <td>기타 괴롭힘 대화</td>\n",
       "      <td>너 되게 귀여운거 알지? 나보다 작은 남자는 첨봤어.\\n그만해. 니들 놀리는거 재미...</td>\n",
       "    </tr>\n",
       "    <tr>\n",
       "      <th>3</th>\n",
       "      <td>3</td>\n",
       "      <td>갈취 대화</td>\n",
       "      <td>어이 거기\\n예??\\n너 말이야 너. 이리 오라고\\n무슨 일.\\n너 옷 좋아보인다?...</td>\n",
       "    </tr>\n",
       "    <tr>\n",
       "      <th>4</th>\n",
       "      <td>4</td>\n",
       "      <td>갈취 대화</td>\n",
       "      <td>저기요 혹시 날이 너무 뜨겁잖아요? 저희 회사에서 이 선크림 파는데 한 번 손등에 ...</td>\n",
       "    </tr>\n",
       "  </tbody>\n",
       "</table>\n",
       "</div>"
      ],
      "text/plain": [
       "   idx      class                                       conversation\n",
       "0    0      협박 대화  지금 너 스스로를 죽여달라고 애원하는 것인가?\\n 아닙니다. 죄송합니다.\\n 죽을 ...\n",
       "1    1      협박 대화  길동경찰서입니다.\\n9시 40분 마트에 폭발물을 설치할거다.\\n네?\\n똑바로 들어 ...\n",
       "2    2  기타 괴롭힘 대화  너 되게 귀여운거 알지? 나보다 작은 남자는 첨봤어.\\n그만해. 니들 놀리는거 재미...\n",
       "3    3      갈취 대화  어이 거기\\n예??\\n너 말이야 너. 이리 오라고\\n무슨 일.\\n너 옷 좋아보인다?...\n",
       "4    4      갈취 대화  저기요 혹시 날이 너무 뜨겁잖아요? 저희 회사에서 이 선크림 파는데 한 번 손등에 ..."
      ]
     },
     "execution_count": 61,
     "metadata": {},
     "output_type": "execute_result"
    }
   ],
   "source": [
    "train_data_path =\"~/aiffel/dktc/data/train.csv\"\n",
    "data = pd.read_csv(train_data_path)\n",
    "data.head()"
   ]
  },
  {
   "cell_type": "code",
   "execution_count": 62,
   "id": "ed3a3acb",
   "metadata": {
    "scrolled": true
   },
   "outputs": [
    {
     "data": {
      "text/plain": [
       "(3950, 3)"
      ]
     },
     "execution_count": 62,
     "metadata": {},
     "output_type": "execute_result"
    }
   ],
   "source": [
    "data.shape"
   ]
  },
  {
   "cell_type": "markdown",
   "id": "93592aae",
   "metadata": {},
   "source": [
    "## 2. 데이터 전처리"
   ]
  },
  {
   "cell_type": "markdown",
   "id": "b283ba60",
   "metadata": {},
   "source": [
    "### 2-1)결측치, 중복데이터 확인"
   ]
  },
  {
   "cell_type": "code",
   "execution_count": 63,
   "id": "e5ae57b5",
   "metadata": {
    "scrolled": true
   },
   "outputs": [
    {
     "name": "stdout",
     "output_type": "stream",
     "text": [
      "idx             0\n",
      "class           0\n",
      "conversation    0\n",
      "dtype: int64\n"
     ]
    }
   ],
   "source": [
    "print(data.isna().sum())"
   ]
  },
  {
   "cell_type": "code",
   "execution_count": 64,
   "id": "659bff90",
   "metadata": {
    "scrolled": true
   },
   "outputs": [
    {
     "data": {
      "text/html": [
       "<div>\n",
       "<style scoped>\n",
       "    .dataframe tbody tr th:only-of-type {\n",
       "        vertical-align: middle;\n",
       "    }\n",
       "\n",
       "    .dataframe tbody tr th {\n",
       "        vertical-align: top;\n",
       "    }\n",
       "\n",
       "    .dataframe thead th {\n",
       "        text-align: right;\n",
       "    }\n",
       "</style>\n",
       "<table border=\"1\" class=\"dataframe\">\n",
       "  <thead>\n",
       "    <tr style=\"text-align: right;\">\n",
       "      <th></th>\n",
       "      <th>idx</th>\n",
       "      <th>class</th>\n",
       "      <th>conversation</th>\n",
       "      <th>duplicates</th>\n",
       "    </tr>\n",
       "  </thead>\n",
       "  <tbody>\n",
       "    <tr>\n",
       "      <th>392</th>\n",
       "      <td>392</td>\n",
       "      <td>기타 괴롭힘 대화</td>\n",
       "      <td>병신이 아이스크림 먹게 돼 있냐?\\n난 먹으면 안 돼? 그만 좀 해.\\n당연히 안 ...</td>\n",
       "      <td>True</td>\n",
       "    </tr>\n",
       "    <tr>\n",
       "      <th>523</th>\n",
       "      <td>523</td>\n",
       "      <td>직장 내 괴롭힘 대화</td>\n",
       "      <td>과장님. 저 이번에 휴가 좀 갔다와도 되겠습니까.?\\n휴가? 왜??\\n좀 쉬다가 오...</td>\n",
       "      <td>True</td>\n",
       "    </tr>\n",
       "    <tr>\n",
       "      <th>789</th>\n",
       "      <td>789</td>\n",
       "      <td>기타 괴롭힘 대화</td>\n",
       "      <td>야 얘 이 쪽 손가락 세 개밖에 없다\\n엥 손가락이 세개밖에 없을 수가 있어?\\n봐...</td>\n",
       "      <td>True</td>\n",
       "    </tr>\n",
       "    <tr>\n",
       "      <th>824</th>\n",
       "      <td>824</td>\n",
       "      <td>기타 괴롭힘 대화</td>\n",
       "      <td>이야 내동생 여자친구한테 편지쓰네?\\n 아 형 돌려줘.\\n 어디보자. 사랑하는 여친...</td>\n",
       "      <td>True</td>\n",
       "    </tr>\n",
       "    <tr>\n",
       "      <th>869</th>\n",
       "      <td>869</td>\n",
       "      <td>직장 내 괴롭힘 대화</td>\n",
       "      <td>지현씨 나 소개팅 좀 시켜줘봐\\n네? 저 주변에 아는 사람이 없어서요\\n아 상사라 ...</td>\n",
       "      <td>True</td>\n",
       "    </tr>\n",
       "    <tr>\n",
       "      <th>...</th>\n",
       "      <td>...</td>\n",
       "      <td>...</td>\n",
       "      <td>...</td>\n",
       "      <td>...</td>\n",
       "    </tr>\n",
       "    <tr>\n",
       "      <th>3797</th>\n",
       "      <td>3797</td>\n",
       "      <td>기타 괴롭힘 대화</td>\n",
       "      <td>너 이번 방학 때 쌍꺼풀 수술 하고왔지?\\n아닌데?\\n아니긴 뭐가 아니야. 눈이 이...</td>\n",
       "      <td>True</td>\n",
       "    </tr>\n",
       "    <tr>\n",
       "      <th>3798</th>\n",
       "      <td>3798</td>\n",
       "      <td>기타 괴롭힘 대화</td>\n",
       "      <td>안녕하세요 지금 먹방 촬영중인데 촬영가능할까요?\\n안돼요\\n한번만 안될까요?\\n안돼...</td>\n",
       "      <td>True</td>\n",
       "    </tr>\n",
       "    <tr>\n",
       "      <th>3855</th>\n",
       "      <td>3855</td>\n",
       "      <td>기타 괴롭힘 대화</td>\n",
       "      <td>그 소문 진짜야? 너가 다른 애들 뒷담화하고 다녔다며?\\n응? 나 그런 적 없는데?...</td>\n",
       "      <td>True</td>\n",
       "    </tr>\n",
       "    <tr>\n",
       "      <th>3874</th>\n",
       "      <td>3874</td>\n",
       "      <td>기타 괴롭힘 대화</td>\n",
       "      <td>야 니 왤캐 못생겼냐?\\n뭐라그랬냐?\\n으 나 보고 말하지마 니 얼굴보면 토나올거 ...</td>\n",
       "      <td>True</td>\n",
       "    </tr>\n",
       "    <tr>\n",
       "      <th>3928</th>\n",
       "      <td>3928</td>\n",
       "      <td>기타 괴롭힘 대화</td>\n",
       "      <td>새파랗게 젊은게 어디 여길 앉아있어\\n저 임산부에요\\n사지 멀쩡한게! 임신이 벼슬이...</td>\n",
       "      <td>True</td>\n",
       "    </tr>\n",
       "  </tbody>\n",
       "</table>\n",
       "<p>104 rows × 4 columns</p>\n",
       "</div>"
      ],
      "text/plain": [
       "       idx        class                                       conversation  \\\n",
       "392    392    기타 괴롭힘 대화  병신이 아이스크림 먹게 돼 있냐?\\n난 먹으면 안 돼? 그만 좀 해.\\n당연히 안 ...   \n",
       "523    523  직장 내 괴롭힘 대화  과장님. 저 이번에 휴가 좀 갔다와도 되겠습니까.?\\n휴가? 왜??\\n좀 쉬다가 오...   \n",
       "789    789    기타 괴롭힘 대화  야 얘 이 쪽 손가락 세 개밖에 없다\\n엥 손가락이 세개밖에 없을 수가 있어?\\n봐...   \n",
       "824    824    기타 괴롭힘 대화  이야 내동생 여자친구한테 편지쓰네?\\n 아 형 돌려줘.\\n 어디보자. 사랑하는 여친...   \n",
       "869    869  직장 내 괴롭힘 대화  지현씨 나 소개팅 좀 시켜줘봐\\n네? 저 주변에 아는 사람이 없어서요\\n아 상사라 ...   \n",
       "...    ...          ...                                                ...   \n",
       "3797  3797    기타 괴롭힘 대화  너 이번 방학 때 쌍꺼풀 수술 하고왔지?\\n아닌데?\\n아니긴 뭐가 아니야. 눈이 이...   \n",
       "3798  3798    기타 괴롭힘 대화  안녕하세요 지금 먹방 촬영중인데 촬영가능할까요?\\n안돼요\\n한번만 안될까요?\\n안돼...   \n",
       "3855  3855    기타 괴롭힘 대화  그 소문 진짜야? 너가 다른 애들 뒷담화하고 다녔다며?\\n응? 나 그런 적 없는데?...   \n",
       "3874  3874    기타 괴롭힘 대화  야 니 왤캐 못생겼냐?\\n뭐라그랬냐?\\n으 나 보고 말하지마 니 얼굴보면 토나올거 ...   \n",
       "3928  3928    기타 괴롭힘 대화  새파랗게 젊은게 어디 여길 앉아있어\\n저 임산부에요\\n사지 멀쩡한게! 임신이 벼슬이...   \n",
       "\n",
       "      duplicates  \n",
       "392         True  \n",
       "523         True  \n",
       "789         True  \n",
       "824         True  \n",
       "869         True  \n",
       "...          ...  \n",
       "3797        True  \n",
       "3798        True  \n",
       "3855        True  \n",
       "3874        True  \n",
       "3928        True  \n",
       "\n",
       "[104 rows x 4 columns]"
      ]
     },
     "execution_count": 64,
     "metadata": {},
     "output_type": "execute_result"
    }
   ],
   "source": [
    "#중복인 행 확인\n",
    "data['duplicates'] = data.duplicated(['conversation'])\n",
    "data[data['duplicates'] == True]"
   ]
  },
  {
   "cell_type": "code",
   "execution_count": 65,
   "id": "45a94f78",
   "metadata": {},
   "outputs": [],
   "source": [
    "#중복제거\n",
    "data = data.drop_duplicates(['conversation'])"
   ]
  },
  {
   "cell_type": "code",
   "execution_count": 66,
   "id": "fa11fbf0",
   "metadata": {
    "scrolled": true
   },
   "outputs": [
    {
     "data": {
      "text/html": [
       "<div>\n",
       "<style scoped>\n",
       "    .dataframe tbody tr th:only-of-type {\n",
       "        vertical-align: middle;\n",
       "    }\n",
       "\n",
       "    .dataframe tbody tr th {\n",
       "        vertical-align: top;\n",
       "    }\n",
       "\n",
       "    .dataframe thead th {\n",
       "        text-align: right;\n",
       "    }\n",
       "</style>\n",
       "<table border=\"1\" class=\"dataframe\">\n",
       "  <thead>\n",
       "    <tr style=\"text-align: right;\">\n",
       "      <th></th>\n",
       "      <th>conversation</th>\n",
       "      <th>class</th>\n",
       "    </tr>\n",
       "  </thead>\n",
       "  <tbody>\n",
       "    <tr>\n",
       "      <th>0</th>\n",
       "      <td>지금 너 스스로를 죽여달라고 애원하는 것인가?\\n 아닙니다. 죄송합니다.\\n 죽을 ...</td>\n",
       "      <td>협박 대화</td>\n",
       "    </tr>\n",
       "    <tr>\n",
       "      <th>1</th>\n",
       "      <td>길동경찰서입니다.\\n9시 40분 마트에 폭발물을 설치할거다.\\n네?\\n똑바로 들어 ...</td>\n",
       "      <td>협박 대화</td>\n",
       "    </tr>\n",
       "    <tr>\n",
       "      <th>2</th>\n",
       "      <td>너 되게 귀여운거 알지? 나보다 작은 남자는 첨봤어.\\n그만해. 니들 놀리는거 재미...</td>\n",
       "      <td>기타 괴롭힘 대화</td>\n",
       "    </tr>\n",
       "    <tr>\n",
       "      <th>3</th>\n",
       "      <td>어이 거기\\n예??\\n너 말이야 너. 이리 오라고\\n무슨 일.\\n너 옷 좋아보인다?...</td>\n",
       "      <td>갈취 대화</td>\n",
       "    </tr>\n",
       "    <tr>\n",
       "      <th>4</th>\n",
       "      <td>저기요 혹시 날이 너무 뜨겁잖아요? 저희 회사에서 이 선크림 파는데 한 번 손등에 ...</td>\n",
       "      <td>갈취 대화</td>\n",
       "    </tr>\n",
       "  </tbody>\n",
       "</table>\n",
       "</div>"
      ],
      "text/plain": [
       "                                        conversation      class\n",
       "0  지금 너 스스로를 죽여달라고 애원하는 것인가?\\n 아닙니다. 죄송합니다.\\n 죽을 ...      협박 대화\n",
       "1  길동경찰서입니다.\\n9시 40분 마트에 폭발물을 설치할거다.\\n네?\\n똑바로 들어 ...      협박 대화\n",
       "2  너 되게 귀여운거 알지? 나보다 작은 남자는 첨봤어.\\n그만해. 니들 놀리는거 재미...  기타 괴롭힘 대화\n",
       "3  어이 거기\\n예??\\n너 말이야 너. 이리 오라고\\n무슨 일.\\n너 옷 좋아보인다?...      갈취 대화\n",
       "4  저기요 혹시 날이 너무 뜨겁잖아요? 저희 회사에서 이 선크림 파는데 한 번 손등에 ...      갈취 대화"
      ]
     },
     "execution_count": 66,
     "metadata": {},
     "output_type": "execute_result"
    }
   ],
   "source": [
    "#conversation과 class만 남김\n",
    "data = data[['conversation','class']]\n",
    "data.head()"
   ]
  },
  {
   "cell_type": "code",
   "execution_count": 67,
   "id": "2c78566e",
   "metadata": {},
   "outputs": [
    {
     "data": {
      "text/plain": [
       "(3846, 2)"
      ]
     },
     "execution_count": 67,
     "metadata": {},
     "output_type": "execute_result"
    }
   ],
   "source": [
    "data.shape"
   ]
  },
  {
   "cell_type": "markdown",
   "id": "df8ce161",
   "metadata": {},
   "source": [
    "### 2-2)레이블인코딩"
   ]
  },
  {
   "cell_type": "code",
   "execution_count": 68,
   "id": "fe83a446",
   "metadata": {
    "scrolled": true
   },
   "outputs": [
    {
     "data": {
      "text/html": [
       "<div>\n",
       "<style scoped>\n",
       "    .dataframe tbody tr th:only-of-type {\n",
       "        vertical-align: middle;\n",
       "    }\n",
       "\n",
       "    .dataframe tbody tr th {\n",
       "        vertical-align: top;\n",
       "    }\n",
       "\n",
       "    .dataframe thead th {\n",
       "        text-align: right;\n",
       "    }\n",
       "</style>\n",
       "<table border=\"1\" class=\"dataframe\">\n",
       "  <thead>\n",
       "    <tr style=\"text-align: right;\">\n",
       "      <th></th>\n",
       "      <th>conversation</th>\n",
       "      <th>class</th>\n",
       "    </tr>\n",
       "  </thead>\n",
       "  <tbody>\n",
       "    <tr>\n",
       "      <th>0</th>\n",
       "      <td>지금 너 스스로를 죽여달라고 애원하는 것인가?\\n 아닙니다. 죄송합니다.\\n 죽을 ...</td>\n",
       "      <td>3</td>\n",
       "    </tr>\n",
       "    <tr>\n",
       "      <th>1</th>\n",
       "      <td>길동경찰서입니다.\\n9시 40분 마트에 폭발물을 설치할거다.\\n네?\\n똑바로 들어 ...</td>\n",
       "      <td>3</td>\n",
       "    </tr>\n",
       "    <tr>\n",
       "      <th>2</th>\n",
       "      <td>너 되게 귀여운거 알지? 나보다 작은 남자는 첨봤어.\\n그만해. 니들 놀리는거 재미...</td>\n",
       "      <td>1</td>\n",
       "    </tr>\n",
       "    <tr>\n",
       "      <th>3</th>\n",
       "      <td>어이 거기\\n예??\\n너 말이야 너. 이리 오라고\\n무슨 일.\\n너 옷 좋아보인다?...</td>\n",
       "      <td>0</td>\n",
       "    </tr>\n",
       "    <tr>\n",
       "      <th>4</th>\n",
       "      <td>저기요 혹시 날이 너무 뜨겁잖아요? 저희 회사에서 이 선크림 파는데 한 번 손등에 ...</td>\n",
       "      <td>0</td>\n",
       "    </tr>\n",
       "  </tbody>\n",
       "</table>\n",
       "</div>"
      ],
      "text/plain": [
       "                                        conversation  class\n",
       "0  지금 너 스스로를 죽여달라고 애원하는 것인가?\\n 아닙니다. 죄송합니다.\\n 죽을 ...      3\n",
       "1  길동경찰서입니다.\\n9시 40분 마트에 폭발물을 설치할거다.\\n네?\\n똑바로 들어 ...      3\n",
       "2  너 되게 귀여운거 알지? 나보다 작은 남자는 첨봤어.\\n그만해. 니들 놀리는거 재미...      1\n",
       "3  어이 거기\\n예??\\n너 말이야 너. 이리 오라고\\n무슨 일.\\n너 옷 좋아보인다?...      0\n",
       "4  저기요 혹시 날이 너무 뜨겁잖아요? 저희 회사에서 이 선크림 파는데 한 번 손등에 ...      0"
      ]
     },
     "execution_count": 68,
     "metadata": {},
     "output_type": "execute_result"
    }
   ],
   "source": [
    "CLASS_NAMES = ['협박 대화', '갈취 대화', '직장 내 괴롭힘 대화', '기타 괴롭힘 대화']\n",
    "\n",
    "encoder = LabelEncoder()\n",
    "encoder.fit(CLASS_NAMES)\n",
    "\n",
    "data['class'] = encoder.transform(data['class'])\n",
    "\n",
    "corpus = data[\"conversation\"]\n",
    "data.head()"
   ]
  },
  {
   "cell_type": "markdown",
   "id": "38b94ed4",
   "metadata": {},
   "source": [
    "### 2-3)토크나이저 및 단어사전 생성"
   ]
  },
  {
   "cell_type": "code",
   "execution_count": 69,
   "id": "b2dad34e",
   "metadata": {},
   "outputs": [
    {
     "name": "stdout",
     "output_type": "stream",
     "text": [
      "[[  1 210   1 ...   1  42   1]\n",
      " [  1   1   1 ...   1   1 401]\n",
      " [  1  97   1 ...   1 136   1]\n",
      " ...\n",
      " [495   3 110 ...  27   1   1]\n",
      " [  1   1 151 ... 348   1   1]\n",
      " [  1   1   1 ... 159 113   1]] <keras_preprocessing.text.Tokenizer object at 0x791c7b70bf10>\n"
     ]
    }
   ],
   "source": [
    "def tokenize(corpus):\n",
    "    #토크나이저 객체생성\n",
    "    tokenizer = tf.keras.preprocessing.text.Tokenizer(\n",
    "        num_words=1000, \n",
    "        filters=' ',\n",
    "        oov_token=\"<unk>\")\n",
    "    \n",
    "    tokenizer.fit_on_texts(corpus) #corpus 기준으로 단어 사전 생성\n",
    "    tensor = tokenizer.texts_to_sequences(corpus) #정수시퀀스\n",
    "    \n",
    "    #시퀀스패딩\n",
    "    tensor = tf.keras.preprocessing.sequence.pad_sequences(tensor, \n",
    "                                                           padding='post',\n",
    "                                                           maxlen=20) #최대길이\n",
    "    print(tensor,tokenizer)\n",
    "    return tensor, tokenizer\n",
    "\n",
    "#데이터셋에서 토큰화 및 패딩작업 결과를 저장\n",
    "tensor, tokenizer = tokenize(corpus)"
   ]
  },
  {
   "cell_type": "markdown",
   "id": "cc087ae2",
   "metadata": {},
   "source": [
    "### 2-4)데이터 분할"
   ]
  },
  {
   "cell_type": "code",
   "execution_count": 70,
   "id": "e2c70904",
   "metadata": {},
   "outputs": [],
   "source": [
    "X_train = tensor[:3300]\n",
    "y_train = data['class'][:3300]\n",
    "X_val = tensor[3300:3550]\n",
    "y_val = data['class'][3300:3550]\n",
    "X_test = tensor[3750:]\n",
    "y_test = data['class'][3750:]"
   ]
  },
  {
   "cell_type": "markdown",
   "id": "faa00cf5",
   "metadata": {},
   "source": [
    "# 3. 모델생성 및 훈련\n",
    "\n",
    "- baseline 모델은 바닐라 RNN 모델로 설정\n",
    "- LSTM, GRU, 1D COV 등 모델 및 pretrained bert 등을 활용예정"
   ]
  },
  {
   "cell_type": "markdown",
   "id": "d44c29df",
   "metadata": {},
   "source": [
    "## 3-1) 모델 구성"
   ]
  },
  {
   "cell_type": "code",
   "execution_count": 71,
   "id": "2fb4aa80",
   "metadata": {
    "scrolled": false
   },
   "outputs": [
    {
     "name": "stdout",
     "output_type": "stream",
     "text": [
      "Model: \"sequential_1\"\n",
      "_________________________________________________________________\n",
      "Layer (type)                 Output Shape              Param #   \n",
      "=================================================================\n",
      "embedding_1 (Embedding)      (None, None, 20)          20000     \n",
      "_________________________________________________________________\n",
      "simple_rnn_1 (SimpleRNN)     (None, 256)               70912     \n",
      "_________________________________________________________________\n",
      "dropout_1 (Dropout)          (None, 256)               0         \n",
      "_________________________________________________________________\n",
      "dense_3 (Dense)              (None, 128)               32896     \n",
      "_________________________________________________________________\n",
      "dense_4 (Dense)              (None, 4)                 516       \n",
      "=================================================================\n",
      "Total params: 124,324\n",
      "Trainable params: 124,324\n",
      "Non-trainable params: 0\n",
      "_________________________________________________________________\n"
     ]
    }
   ],
   "source": [
    "import tensorflow as tf\n",
    "from tensorflow.keras.models import Sequential\n",
    "from tensorflow.keras.layers import Embedding,SimpleRNN,Dropout, Dense\n",
    "\n",
    "\n",
    "vocab_size = 1000  # 어휘 사전의 크기\n",
    "word_vector_dim = 20  # 단어 하나를 표현하는 임베딩 벡터의 차원수\n",
    "\n",
    "model = Sequential()\n",
    "model.add(Embedding(vocab_size, word_vector_dim, input_length=None))\n",
    "model.add(SimpleRNN(256)) \n",
    "model.add(Dropout(0.2)) \n",
    "model.add(Dense(128, activation='relu'))\n",
    "model.add(Dense(4, activation='softmax'))  \n",
    "\n",
    "model.summary()"
   ]
  },
  {
   "cell_type": "code",
   "execution_count": 72,
   "id": "04b7358f",
   "metadata": {},
   "outputs": [],
   "source": [
    "from sklearn.metrics import f1_score, precision_score, recall_score"
   ]
  },
  {
   "cell_type": "code",
   "execution_count": 73,
   "id": "afc482c0",
   "metadata": {},
   "outputs": [],
   "source": [
    "#모델 compile\n",
    "model.compile(optimizer='adam',\n",
    "              loss='sparse_categorical_crossentropy',\n",
    "              metrics=['accuracy'])"
   ]
  },
  {
   "cell_type": "code",
   "execution_count": 74,
   "id": "4f8620b6",
   "metadata": {},
   "outputs": [],
   "source": [
    "#콜백함수\n",
    "from tensorflow.keras.callbacks import EarlyStopping\n",
    "\n",
    "early_stopping = EarlyStopping(\n",
    "    monitor='val_loss',  # 검증 손실을 기준으로 조기 종료 여부 판단\n",
    "    patience=10,         # 검증 손실이 개선되지 않는 epoch를 5회까지 허용\n",
    "    restore_best_weights=True  # 가장 좋은 검증 손실을 낸 모델의 가중치 복원\n",
    ")"
   ]
  },
  {
   "cell_type": "markdown",
   "id": "2b997df2",
   "metadata": {},
   "source": [
    "## 3-2) 모델 학습"
   ]
  },
  {
   "cell_type": "code",
   "execution_count": 75,
   "id": "2dfc90f6",
   "metadata": {
    "scrolled": true
   },
   "outputs": [
    {
     "name": "stdout",
     "output_type": "stream",
     "text": [
      "Epoch 1/100\n",
      "104/104 [==============================] - 3s 22ms/step - loss: 1.3885 - accuracy: 0.2718 - val_loss: 1.3860 - val_accuracy: 0.2440\n",
      "Epoch 2/100\n",
      "104/104 [==============================] - 2s 21ms/step - loss: 1.3277 - accuracy: 0.3485 - val_loss: 1.2931 - val_accuracy: 0.4320\n",
      "Epoch 3/100\n",
      "104/104 [==============================] - 2s 21ms/step - loss: 1.1927 - accuracy: 0.4670 - val_loss: 1.1899 - val_accuracy: 0.4560\n",
      "Epoch 4/100\n",
      "104/104 [==============================] - 2s 21ms/step - loss: 1.0143 - accuracy: 0.5727 - val_loss: 1.1976 - val_accuracy: 0.4720\n",
      "Epoch 5/100\n",
      "104/104 [==============================] - 2s 21ms/step - loss: 0.8787 - accuracy: 0.6361 - val_loss: 1.3259 - val_accuracy: 0.4440\n",
      "Epoch 6/100\n",
      "104/104 [==============================] - 2s 21ms/step - loss: 0.7765 - accuracy: 0.6888 - val_loss: 1.2894 - val_accuracy: 0.4480\n",
      "Epoch 7/100\n",
      "104/104 [==============================] - 2s 21ms/step - loss: 0.6819 - accuracy: 0.7312 - val_loss: 1.4598 - val_accuracy: 0.3760\n",
      "Epoch 8/100\n",
      "104/104 [==============================] - 2s 21ms/step - loss: 0.5954 - accuracy: 0.7645 - val_loss: 1.6995 - val_accuracy: 0.4160\n",
      "Epoch 9/100\n",
      "104/104 [==============================] - 2s 21ms/step - loss: 0.5214 - accuracy: 0.8085 - val_loss: 1.7050 - val_accuracy: 0.4400\n",
      "Epoch 10/100\n",
      "104/104 [==============================] - 2s 21ms/step - loss: 0.4796 - accuracy: 0.8197 - val_loss: 1.7868 - val_accuracy: 0.4040\n",
      "Epoch 11/100\n",
      "104/104 [==============================] - 2s 21ms/step - loss: 0.4150 - accuracy: 0.8488 - val_loss: 2.1685 - val_accuracy: 0.4480\n",
      "Epoch 12/100\n",
      "104/104 [==============================] - 2s 20ms/step - loss: 0.4057 - accuracy: 0.8503 - val_loss: 2.1768 - val_accuracy: 0.4200\n",
      "Epoch 13/100\n",
      "104/104 [==============================] - 2s 20ms/step - loss: 0.3439 - accuracy: 0.8727 - val_loss: 2.3658 - val_accuracy: 0.4280\n"
     ]
    }
   ],
   "source": [
    "history = model.fit(X_train, y_train, epochs=100, validation_data=(X_val, y_val), callbacks=[early_stopping])"
   ]
  },
  {
   "cell_type": "markdown",
   "id": "3d6d358c",
   "metadata": {},
   "source": [
    "## 3-3) 학습과정 시각화"
   ]
  },
  {
   "cell_type": "code",
   "execution_count": 76,
   "id": "23a829d2",
   "metadata": {},
   "outputs": [
    {
     "data": {
      "image/png": "[encoded data removed]",
      "text/plain": [
       "<Figure size 432x288 with 1 Axes>"
      ]
     },
     "metadata": {
      "needs_background": "light"
     },
     "output_type": "display_data"
    }
   ],
   "source": [
    "import matplotlib.pyplot as plt\n",
    "\n",
    "acc = history.history['accuracy']\n",
    "val_acc = history.history['val_accuracy']\n",
    "loss = history.history['loss']\n",
    "val_loss = history.history['val_loss']\n",
    "epochs = range(1, len(acc) + 1)\n",
    "\n",
    "# \"bo\"는 \"파란색 점\"입니다\n",
    "plt.plot(epochs, loss, 'bo', label='Training loss')\n",
    "# b는 \"파란 실선\"입니다\n",
    "plt.plot(epochs, val_loss, 'b', label='Validation loss')\n",
    "plt.title('Training and validation loss')\n",
    "plt.xlabel('Epochs')\n",
    "plt.ylabel('Loss')\n",
    "plt.legend()\n",
    "\n",
    "plt.show()"
   ]
  },
  {
   "cell_type": "code",
   "execution_count": 77,
   "id": "554451cf",
   "metadata": {
    "scrolled": false
   },
   "outputs": [
    {
     "data": {
      "image/png": "[encoded data removed]",
      "text/plain": [
       "<Figure size 432x288 with 1 Axes>"
      ]
     },
     "metadata": {
      "needs_background": "light"
     },
     "output_type": "display_data"
    }
   ],
   "source": [
    "plt.plot(epochs, acc, 'bo', label='Training acc')\n",
    "plt.plot(epochs, val_acc, 'b', label='Validation acc')\n",
    "plt.title('Training and validation accuracy')\n",
    "plt.xlabel('Epochs')\n",
    "plt.ylabel('Accuracy')\n",
    "plt.legend()\n",
    "\n",
    "plt.show()"
   ]
  },
  {
   "cell_type": "markdown",
   "id": "60993b90",
   "metadata": {},
   "source": [
    "## 3-4) 성능 확인"
   ]
  },
  {
   "cell_type": "code",
   "execution_count": 78,
   "id": "ddc38175",
   "metadata": {},
   "outputs": [
    {
     "name": "stdout",
     "output_type": "stream",
     "text": [
      "3/3 - 0s - loss: 1.2357 - accuracy: 0.4271\n"
     ]
    }
   ],
   "source": [
    "results = model.evaluate(X_test,y_test, verbose=2)"
   ]
  },
  {
   "cell_type": "code",
   "execution_count": 79,
   "id": "25604c5f",
   "metadata": {},
   "outputs": [],
   "source": [
    "loss = results[0]\n",
    "accuracy = results[1] "
   ]
  },
  {
   "cell_type": "code",
   "execution_count": 80,
   "id": "e762beee",
   "metadata": {},
   "outputs": [],
   "source": [
    "# 예측\n",
    "y_pred = model.predict(X_test)\n",
    "y_pred_classes = y_pred.argmax(axis=-1)  # 예측 확률 값을 클래스 레이블로 변환"
   ]
  },
  {
   "cell_type": "code",
   "execution_count": 81,
   "id": "f8d2b5ae",
   "metadata": {
    "scrolled": true
   },
   "outputs": [
    {
     "name": "stdout",
     "output_type": "stream",
     "text": [
      "[2 3 0 1 2 2 2 1 0 2 0 1 3 0 2 1 2 1 1 0 0 1 0 1 2 0 0 0 2 0 1 2 2 2 2 2 1\n",
      " 2 2 3 1 0 0 2 2 0 2 2 2 0 2 1 2 0 0 3 0 2 0 3 3 0 1 2 3 1 3 1 0 0 1 0 0 0\n",
      " 2 0 0 2 2 1 0 2 0 3 3 3 3 0 0 0 2 3 0 0 2 3]\n"
     ]
    }
   ],
   "source": [
    "print(y_pred_classes)"
   ]
  },
  {
   "cell_type": "code",
   "execution_count": 90,
   "id": "f1cddcea",
   "metadata": {
    "scrolled": false
   },
   "outputs": [
    {
     "name": "stdout",
     "output_type": "stream",
     "text": [
      "              precision    recall  f1-score   support\n",
      "\n",
      "           0       0.56      0.56      0.56        34\n",
      "           1       0.35      0.23      0.28        26\n",
      "           2       0.42      0.65      0.51        20\n",
      "           3       0.21      0.19      0.20        16\n",
      "\n",
      "    accuracy                           0.43        96\n",
      "   macro avg       0.39      0.41      0.39        96\n",
      "weighted avg       0.42      0.43      0.41        96\n",
      "\n"
     ]
    }
   ],
   "source": [
    "from sklearn.metrics import classification_report\n",
    "\n",
    "report_dict = classification_report(y_test, y_pred_classes)\n",
    "\n",
    "print(report_dict)\n"
   ]
  },
  {
   "cell_type": "code",
   "execution_count": 94,
   "id": "cb49d220",
   "metadata": {},
   "outputs": [
    {
     "name": "stdout",
     "output_type": "stream",
     "text": [
      "{'0': {'precision': 0.5588235294117647, 'recall': 0.5588235294117647, 'f1-score': 0.5588235294117647, 'support': 34}, '1': {'precision': 0.35294117647058826, 'recall': 0.23076923076923078, 'f1-score': 0.2790697674418605, 'support': 26}, '2': {'precision': 0.41935483870967744, 'recall': 0.65, 'f1-score': 0.5098039215686274, 'support': 20}, '3': {'precision': 0.21428571428571427, 'recall': 0.1875, 'f1-score': 0.19999999999999998, 'support': 16}, 'accuracy': 0.4270833333333333, 'macro avg': {'precision': 0.3863513147194362, 'recall': 0.4067731900452489, 'f1-score': 0.38692430460556315, 'support': 96}, 'weighted avg': {'precision': 0.4165847790729195, 'recall': 0.4270833333333333, 'f1-score': 0.4130405456756347, 'support': 96}}\n"
     ]
    }
   ],
   "source": [
    "print(report_dict)"
   ]
  },
  {
   "cell_type": "code",
   "execution_count": 95,
   "id": "ff04d166",
   "metadata": {},
   "outputs": [
    {
     "name": "stdout",
     "output_type": "stream",
     "text": [
      "weighted avg precision : 0.4165847790729195\n",
      "weighted avg recall : 0.4270833333333333\n",
      "weighted avg f1-score : 0.4130405456756347\n"
     ]
    }
   ],
   "source": [
    "report_dict = classification_report(y_test, y_pred_classes, output_dict=True)\n",
    "\n",
    "# 필요한 값 추출 및 출력\n",
    "precision = report_dict['weighted avg']['precision']\n",
    "recall = report_dict['weighted avg']['recall']\n",
    "f1 = report_dict['weighted avg']['f1-score']\n",
    "\n",
    "print(\"weighted avg precision :\", precision)\n",
    "print(\"weighted avg recall :\", recall)\n",
    "print(\"weighted avg f1-score :\", f1)"
   ]
  },
  {
   "cell_type": "code",
   "execution_count": 92,
   "id": "334d7189",
   "metadata": {},
   "outputs": [],
   "source": [
    "df = pd.DataFrame(report_dict)"
   ]
  },
  {
   "cell_type": "code",
   "execution_count": 93,
   "id": "f311dcca",
   "metadata": {},
   "outputs": [
    {
     "data": {
      "text/html": [
       "<div>\n",
       "<style scoped>\n",
       "    .dataframe tbody tr th:only-of-type {\n",
       "        vertical-align: middle;\n",
       "    }\n",
       "\n",
       "    .dataframe tbody tr th {\n",
       "        vertical-align: top;\n",
       "    }\n",
       "\n",
       "    .dataframe thead th {\n",
       "        text-align: right;\n",
       "    }\n",
       "</style>\n",
       "<table border=\"1\" class=\"dataframe\">\n",
       "  <thead>\n",
       "    <tr style=\"text-align: right;\">\n",
       "      <th></th>\n",
       "      <th>0</th>\n",
       "      <th>1</th>\n",
       "      <th>2</th>\n",
       "      <th>3</th>\n",
       "      <th>accuracy</th>\n",
       "      <th>macro avg</th>\n",
       "      <th>weighted avg</th>\n",
       "    </tr>\n",
       "  </thead>\n",
       "  <tbody>\n",
       "    <tr>\n",
       "      <th>precision</th>\n",
       "      <td>0.558824</td>\n",
       "      <td>0.352941</td>\n",
       "      <td>0.419355</td>\n",
       "      <td>0.214286</td>\n",
       "      <td>0.427083</td>\n",
       "      <td>0.386351</td>\n",
       "      <td>0.416585</td>\n",
       "    </tr>\n",
       "    <tr>\n",
       "      <th>recall</th>\n",
       "      <td>0.558824</td>\n",
       "      <td>0.230769</td>\n",
       "      <td>0.650000</td>\n",
       "      <td>0.187500</td>\n",
       "      <td>0.427083</td>\n",
       "      <td>0.406773</td>\n",
       "      <td>0.427083</td>\n",
       "    </tr>\n",
       "    <tr>\n",
       "      <th>f1-score</th>\n",
       "      <td>0.558824</td>\n",
       "      <td>0.279070</td>\n",
       "      <td>0.509804</td>\n",
       "      <td>0.200000</td>\n",
       "      <td>0.427083</td>\n",
       "      <td>0.386924</td>\n",
       "      <td>0.413041</td>\n",
       "    </tr>\n",
       "    <tr>\n",
       "      <th>support</th>\n",
       "      <td>34.000000</td>\n",
       "      <td>26.000000</td>\n",
       "      <td>20.000000</td>\n",
       "      <td>16.000000</td>\n",
       "      <td>0.427083</td>\n",
       "      <td>96.000000</td>\n",
       "      <td>96.000000</td>\n",
       "    </tr>\n",
       "  </tbody>\n",
       "</table>\n",
       "</div>"
      ],
      "text/plain": [
       "                   0          1          2          3  accuracy  macro avg  \\\n",
       "precision   0.558824   0.352941   0.419355   0.214286  0.427083   0.386351   \n",
       "recall      0.558824   0.230769   0.650000   0.187500  0.427083   0.406773   \n",
       "f1-score    0.558824   0.279070   0.509804   0.200000  0.427083   0.386924   \n",
       "support    34.000000  26.000000  20.000000  16.000000  0.427083  96.000000   \n",
       "\n",
       "           weighted avg  \n",
       "precision      0.416585  \n",
       "recall         0.427083  \n",
       "f1-score       0.413041  \n",
       "support       96.000000  "
      ]
     },
     "execution_count": 93,
     "metadata": {},
     "output_type": "execute_result"
    }
   ],
   "source": [
    "df"
   ]
  },
  {
   "cell_type": "code",
   "execution_count": null,
   "id": "75bd96b4",
   "metadata": {},
   "outputs": [],
   "source": []
  }
 ],
 "metadata": {
  "kernelspec": {
   "display_name": "Python 3 (ipykernel)",
   "language": "python",
   "name": "python3"
  },
  "language_info": {
   "codemirror_mode": {
    "name": "ipython",
    "version": 3
   },
   "file_extension": ".py",
   "mimetype": "text/x-python",
   "name": "python",
   "nbconvert_exporter": "python",
   "pygments_lexer": "ipython3",
   "version": "3.9.7"
  }
 },
 "nbformat": 4,
 "nbformat_minor": 5
}
